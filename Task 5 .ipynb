{
 "cells": [
  {
   "cell_type": "markdown",
   "metadata": {},
   "source": [
    "The Sparks Foundation\n",
    " Name: Renuka Devi Bommisetty\n",
    " Email: renukasreenivas56@gmail.com\n",
    " Domain: Data Science And Business Analytics\n",
    " Task-5: Exploratory Data Analysis-SPORTS"
   ]
  },
  {
   "cell_type": "markdown",
   "metadata": {},
   "source": [
    "# TASK EXPLANATION"
   ]
  },
  {
   "cell_type": "markdown",
   "metadata": {},
   "source": [
    "Perform Exploratory Data Analysis on dataset \"INDIAN PREMIUM LEAGUE\".\n",
    "As a sports analysis findout the most succesful teams ,players and factors contributing to win or loss of a team .Suggest teams or players a company should endorse for its products"
   ]
  },
  {
   "cell_type": "markdown",
   "metadata": {},
   "source": [
    "# Importing  modules"
   ]
  },
  {
   "cell_type": "code",
   "execution_count": 1,
   "metadata": {},
   "outputs": [],
   "source": [
    "import pyforest\n",
    "%matplotlib inline"
   ]
  },
  {
   "cell_type": "markdown",
   "metadata": {},
   "source": [
    "# Loading data"
   ]
  },
  {
   "cell_type": "code",
   "execution_count": 2,
   "metadata": {},
   "outputs": [
    {
     "data": {
      "application/javascript": [
       "\n",
       "        if (window._pyforest_update_imports_cell) { window._pyforest_update_imports_cell('import pandas as pd'); }\n",
       "    "
      ],
      "text/plain": [
       "<IPython.core.display.Javascript object>"
      ]
     },
     "metadata": {},
     "output_type": "display_data"
    },
    {
     "data": {
      "text/html": [
       "<div>\n",
       "<style scoped>\n",
       "    .dataframe tbody tr th:only-of-type {\n",
       "        vertical-align: middle;\n",
       "    }\n",
       "\n",
       "    .dataframe tbody tr th {\n",
       "        vertical-align: top;\n",
       "    }\n",
       "\n",
       "    .dataframe thead th {\n",
       "        text-align: right;\n",
       "    }\n",
       "</style>\n",
       "<table border=\"1\" class=\"dataframe\">\n",
       "  <thead>\n",
       "    <tr style=\"text-align: right;\">\n",
       "      <th></th>\n",
       "      <th>match_id</th>\n",
       "      <th>inning</th>\n",
       "      <th>batting_team</th>\n",
       "      <th>bowling_team</th>\n",
       "      <th>over</th>\n",
       "      <th>ball</th>\n",
       "      <th>batsman</th>\n",
       "      <th>non_striker</th>\n",
       "      <th>bowler</th>\n",
       "      <th>is_super_over</th>\n",
       "      <th>...</th>\n",
       "      <th>bye_runs</th>\n",
       "      <th>legbye_runs</th>\n",
       "      <th>noball_runs</th>\n",
       "      <th>penalty_runs</th>\n",
       "      <th>batsman_runs</th>\n",
       "      <th>extra_runs</th>\n",
       "      <th>total_runs</th>\n",
       "      <th>player_dismissed</th>\n",
       "      <th>dismissal_kind</th>\n",
       "      <th>fielder</th>\n",
       "    </tr>\n",
       "  </thead>\n",
       "  <tbody>\n",
       "    <tr>\n",
       "      <th>0</th>\n",
       "      <td>1</td>\n",
       "      <td>1</td>\n",
       "      <td>Sunrisers Hyderabad</td>\n",
       "      <td>Royal Challengers Bangalore</td>\n",
       "      <td>1</td>\n",
       "      <td>1</td>\n",
       "      <td>DA Warner</td>\n",
       "      <td>S Dhawan</td>\n",
       "      <td>TS Mills</td>\n",
       "      <td>0</td>\n",
       "      <td>...</td>\n",
       "      <td>0</td>\n",
       "      <td>0</td>\n",
       "      <td>0</td>\n",
       "      <td>0</td>\n",
       "      <td>0</td>\n",
       "      <td>0</td>\n",
       "      <td>0</td>\n",
       "      <td>NaN</td>\n",
       "      <td>NaN</td>\n",
       "      <td>NaN</td>\n",
       "    </tr>\n",
       "    <tr>\n",
       "      <th>1</th>\n",
       "      <td>1</td>\n",
       "      <td>1</td>\n",
       "      <td>Sunrisers Hyderabad</td>\n",
       "      <td>Royal Challengers Bangalore</td>\n",
       "      <td>1</td>\n",
       "      <td>2</td>\n",
       "      <td>DA Warner</td>\n",
       "      <td>S Dhawan</td>\n",
       "      <td>TS Mills</td>\n",
       "      <td>0</td>\n",
       "      <td>...</td>\n",
       "      <td>0</td>\n",
       "      <td>0</td>\n",
       "      <td>0</td>\n",
       "      <td>0</td>\n",
       "      <td>0</td>\n",
       "      <td>0</td>\n",
       "      <td>0</td>\n",
       "      <td>NaN</td>\n",
       "      <td>NaN</td>\n",
       "      <td>NaN</td>\n",
       "    </tr>\n",
       "    <tr>\n",
       "      <th>2</th>\n",
       "      <td>1</td>\n",
       "      <td>1</td>\n",
       "      <td>Sunrisers Hyderabad</td>\n",
       "      <td>Royal Challengers Bangalore</td>\n",
       "      <td>1</td>\n",
       "      <td>3</td>\n",
       "      <td>DA Warner</td>\n",
       "      <td>S Dhawan</td>\n",
       "      <td>TS Mills</td>\n",
       "      <td>0</td>\n",
       "      <td>...</td>\n",
       "      <td>0</td>\n",
       "      <td>0</td>\n",
       "      <td>0</td>\n",
       "      <td>0</td>\n",
       "      <td>4</td>\n",
       "      <td>0</td>\n",
       "      <td>4</td>\n",
       "      <td>NaN</td>\n",
       "      <td>NaN</td>\n",
       "      <td>NaN</td>\n",
       "    </tr>\n",
       "  </tbody>\n",
       "</table>\n",
       "<p>3 rows × 21 columns</p>\n",
       "</div>"
      ],
      "text/plain": [
       "   match_id  inning         batting_team                 bowling_team  over  \\\n",
       "0         1       1  Sunrisers Hyderabad  Royal Challengers Bangalore     1   \n",
       "1         1       1  Sunrisers Hyderabad  Royal Challengers Bangalore     1   \n",
       "2         1       1  Sunrisers Hyderabad  Royal Challengers Bangalore     1   \n",
       "\n",
       "   ball    batsman non_striker    bowler  is_super_over  ...  bye_runs  \\\n",
       "0     1  DA Warner    S Dhawan  TS Mills              0  ...         0   \n",
       "1     2  DA Warner    S Dhawan  TS Mills              0  ...         0   \n",
       "2     3  DA Warner    S Dhawan  TS Mills              0  ...         0   \n",
       "\n",
       "   legbye_runs  noball_runs  penalty_runs  batsman_runs  extra_runs  \\\n",
       "0            0            0             0             0           0   \n",
       "1            0            0             0             0           0   \n",
       "2            0            0             0             4           0   \n",
       "\n",
       "   total_runs  player_dismissed dismissal_kind fielder  \n",
       "0           0               NaN            NaN     NaN  \n",
       "1           0               NaN            NaN     NaN  \n",
       "2           4               NaN            NaN     NaN  \n",
       "\n",
       "[3 rows x 21 columns]"
      ]
     },
     "execution_count": 2,
     "metadata": {},
     "output_type": "execute_result"
    }
   ],
   "source": [
    "d_data=pd.read_csv(\"c://Users/RENUKA SREENIVAS/Downloads/deliveries.csv\")\n",
    "d_data.head(3)"
   ]
  },
  {
   "cell_type": "code",
   "execution_count": 3,
   "metadata": {},
   "outputs": [
    {
     "data": {
      "text/html": [
       "<div>\n",
       "<style scoped>\n",
       "    .dataframe tbody tr th:only-of-type {\n",
       "        vertical-align: middle;\n",
       "    }\n",
       "\n",
       "    .dataframe tbody tr th {\n",
       "        vertical-align: top;\n",
       "    }\n",
       "\n",
       "    .dataframe thead th {\n",
       "        text-align: right;\n",
       "    }\n",
       "</style>\n",
       "<table border=\"1\" class=\"dataframe\">\n",
       "  <thead>\n",
       "    <tr style=\"text-align: right;\">\n",
       "      <th></th>\n",
       "      <th>match_id</th>\n",
       "      <th>inning</th>\n",
       "      <th>batting_team</th>\n",
       "      <th>bowling_team</th>\n",
       "      <th>over</th>\n",
       "      <th>ball</th>\n",
       "      <th>batsman</th>\n",
       "      <th>non_striker</th>\n",
       "      <th>bowler</th>\n",
       "      <th>is_super_over</th>\n",
       "      <th>...</th>\n",
       "      <th>bye_runs</th>\n",
       "      <th>legbye_runs</th>\n",
       "      <th>noball_runs</th>\n",
       "      <th>penalty_runs</th>\n",
       "      <th>batsman_runs</th>\n",
       "      <th>extra_runs</th>\n",
       "      <th>total_runs</th>\n",
       "      <th>player_dismissed</th>\n",
       "      <th>dismissal_kind</th>\n",
       "      <th>fielder</th>\n",
       "    </tr>\n",
       "  </thead>\n",
       "  <tbody>\n",
       "    <tr>\n",
       "      <th>179075</th>\n",
       "      <td>11415</td>\n",
       "      <td>2</td>\n",
       "      <td>Chennai Super Kings</td>\n",
       "      <td>Mumbai Indians</td>\n",
       "      <td>20</td>\n",
       "      <td>4</td>\n",
       "      <td>SR Watson</td>\n",
       "      <td>RA Jadeja</td>\n",
       "      <td>SL Malinga</td>\n",
       "      <td>0</td>\n",
       "      <td>...</td>\n",
       "      <td>0</td>\n",
       "      <td>0</td>\n",
       "      <td>0</td>\n",
       "      <td>0</td>\n",
       "      <td>1</td>\n",
       "      <td>0</td>\n",
       "      <td>1</td>\n",
       "      <td>SR Watson</td>\n",
       "      <td>run out</td>\n",
       "      <td>KH Pandya</td>\n",
       "    </tr>\n",
       "    <tr>\n",
       "      <th>179076</th>\n",
       "      <td>11415</td>\n",
       "      <td>2</td>\n",
       "      <td>Chennai Super Kings</td>\n",
       "      <td>Mumbai Indians</td>\n",
       "      <td>20</td>\n",
       "      <td>5</td>\n",
       "      <td>SN Thakur</td>\n",
       "      <td>RA Jadeja</td>\n",
       "      <td>SL Malinga</td>\n",
       "      <td>0</td>\n",
       "      <td>...</td>\n",
       "      <td>0</td>\n",
       "      <td>0</td>\n",
       "      <td>0</td>\n",
       "      <td>0</td>\n",
       "      <td>2</td>\n",
       "      <td>0</td>\n",
       "      <td>2</td>\n",
       "      <td>NaN</td>\n",
       "      <td>NaN</td>\n",
       "      <td>NaN</td>\n",
       "    </tr>\n",
       "    <tr>\n",
       "      <th>179077</th>\n",
       "      <td>11415</td>\n",
       "      <td>2</td>\n",
       "      <td>Chennai Super Kings</td>\n",
       "      <td>Mumbai Indians</td>\n",
       "      <td>20</td>\n",
       "      <td>6</td>\n",
       "      <td>SN Thakur</td>\n",
       "      <td>RA Jadeja</td>\n",
       "      <td>SL Malinga</td>\n",
       "      <td>0</td>\n",
       "      <td>...</td>\n",
       "      <td>0</td>\n",
       "      <td>0</td>\n",
       "      <td>0</td>\n",
       "      <td>0</td>\n",
       "      <td>0</td>\n",
       "      <td>0</td>\n",
       "      <td>0</td>\n",
       "      <td>SN Thakur</td>\n",
       "      <td>lbw</td>\n",
       "      <td>NaN</td>\n",
       "    </tr>\n",
       "  </tbody>\n",
       "</table>\n",
       "<p>3 rows × 21 columns</p>\n",
       "</div>"
      ],
      "text/plain": [
       "        match_id  inning         batting_team    bowling_team  over  ball  \\\n",
       "179075     11415       2  Chennai Super Kings  Mumbai Indians    20     4   \n",
       "179076     11415       2  Chennai Super Kings  Mumbai Indians    20     5   \n",
       "179077     11415       2  Chennai Super Kings  Mumbai Indians    20     6   \n",
       "\n",
       "          batsman non_striker      bowler  is_super_over  ...  bye_runs  \\\n",
       "179075  SR Watson   RA Jadeja  SL Malinga              0  ...         0   \n",
       "179076  SN Thakur   RA Jadeja  SL Malinga              0  ...         0   \n",
       "179077  SN Thakur   RA Jadeja  SL Malinga              0  ...         0   \n",
       "\n",
       "        legbye_runs  noball_runs  penalty_runs  batsman_runs  extra_runs  \\\n",
       "179075            0            0             0             1           0   \n",
       "179076            0            0             0             2           0   \n",
       "179077            0            0             0             0           0   \n",
       "\n",
       "        total_runs  player_dismissed dismissal_kind    fielder  \n",
       "179075           1         SR Watson        run out  KH Pandya  \n",
       "179076           2               NaN            NaN        NaN  \n",
       "179077           0         SN Thakur            lbw        NaN  \n",
       "\n",
       "[3 rows x 21 columns]"
      ]
     },
     "execution_count": 3,
     "metadata": {},
     "output_type": "execute_result"
    }
   ],
   "source": [
    "#to get last three rows in dataset\n",
    "d_data.tail(3)"
   ]
  },
  {
   "cell_type": "code",
   "execution_count": 4,
   "metadata": {},
   "outputs": [
    {
     "data": {
      "text/plain": [
       "(179078, 21)"
      ]
     },
     "execution_count": 4,
     "metadata": {},
     "output_type": "execute_result"
    }
   ],
   "source": [
    "#to get the shape of dataset\n",
    "d_data.shape"
   ]
  },
  {
   "cell_type": "code",
   "execution_count": 5,
   "metadata": {},
   "outputs": [
    {
     "name": "stdout",
     "output_type": "stream",
     "text": [
      "<class 'pandas.core.frame.DataFrame'>\n",
      "RangeIndex: 179078 entries, 0 to 179077\n",
      "Data columns (total 21 columns):\n",
      " #   Column            Non-Null Count   Dtype \n",
      "---  ------            --------------   ----- \n",
      " 0   match_id          179078 non-null  int64 \n",
      " 1   inning            179078 non-null  int64 \n",
      " 2   batting_team      179078 non-null  object\n",
      " 3   bowling_team      179078 non-null  object\n",
      " 4   over              179078 non-null  int64 \n",
      " 5   ball              179078 non-null  int64 \n",
      " 6   batsman           179078 non-null  object\n",
      " 7   non_striker       179078 non-null  object\n",
      " 8   bowler            179078 non-null  object\n",
      " 9   is_super_over     179078 non-null  int64 \n",
      " 10  wide_runs         179078 non-null  int64 \n",
      " 11  bye_runs          179078 non-null  int64 \n",
      " 12  legbye_runs       179078 non-null  int64 \n",
      " 13  noball_runs       179078 non-null  int64 \n",
      " 14  penalty_runs      179078 non-null  int64 \n",
      " 15  batsman_runs      179078 non-null  int64 \n",
      " 16  extra_runs        179078 non-null  int64 \n",
      " 17  total_runs        179078 non-null  int64 \n",
      " 18  player_dismissed  8834 non-null    object\n",
      " 19  dismissal_kind    8834 non-null    object\n",
      " 20  fielder           6448 non-null    object\n",
      "dtypes: int64(13), object(8)\n",
      "memory usage: 28.7+ MB\n"
     ]
    }
   ],
   "source": [
    "# to get the whole information about the data \n",
    "d_data.info()"
   ]
  },
  {
   "cell_type": "code",
   "execution_count": 6,
   "metadata": {},
   "outputs": [
    {
     "data": {
      "text/html": [
       "<div>\n",
       "<style scoped>\n",
       "    .dataframe tbody tr th:only-of-type {\n",
       "        vertical-align: middle;\n",
       "    }\n",
       "\n",
       "    .dataframe tbody tr th {\n",
       "        vertical-align: top;\n",
       "    }\n",
       "\n",
       "    .dataframe thead th {\n",
       "        text-align: right;\n",
       "    }\n",
       "</style>\n",
       "<table border=\"1\" class=\"dataframe\">\n",
       "  <thead>\n",
       "    <tr style=\"text-align: right;\">\n",
       "      <th></th>\n",
       "      <th>match_id</th>\n",
       "      <th>inning</th>\n",
       "      <th>over</th>\n",
       "      <th>ball</th>\n",
       "      <th>is_super_over</th>\n",
       "      <th>wide_runs</th>\n",
       "      <th>bye_runs</th>\n",
       "      <th>legbye_runs</th>\n",
       "      <th>noball_runs</th>\n",
       "      <th>penalty_runs</th>\n",
       "      <th>batsman_runs</th>\n",
       "      <th>extra_runs</th>\n",
       "      <th>total_runs</th>\n",
       "    </tr>\n",
       "  </thead>\n",
       "  <tbody>\n",
       "    <tr>\n",
       "      <th>count</th>\n",
       "      <td>179078.000000</td>\n",
       "      <td>179078.000000</td>\n",
       "      <td>179078.000000</td>\n",
       "      <td>179078.000000</td>\n",
       "      <td>179078.000000</td>\n",
       "      <td>179078.000000</td>\n",
       "      <td>179078.000000</td>\n",
       "      <td>179078.000000</td>\n",
       "      <td>179078.000000</td>\n",
       "      <td>179078.000000</td>\n",
       "      <td>179078.000000</td>\n",
       "      <td>179078.000000</td>\n",
       "      <td>179078.000000</td>\n",
       "    </tr>\n",
       "    <tr>\n",
       "      <th>mean</th>\n",
       "      <td>1802.252957</td>\n",
       "      <td>1.482952</td>\n",
       "      <td>10.162488</td>\n",
       "      <td>3.615587</td>\n",
       "      <td>0.000452</td>\n",
       "      <td>0.036721</td>\n",
       "      <td>0.004936</td>\n",
       "      <td>0.021136</td>\n",
       "      <td>0.004183</td>\n",
       "      <td>0.000056</td>\n",
       "      <td>1.246864</td>\n",
       "      <td>0.067032</td>\n",
       "      <td>1.313897</td>\n",
       "    </tr>\n",
       "    <tr>\n",
       "      <th>std</th>\n",
       "      <td>3472.322805</td>\n",
       "      <td>0.502074</td>\n",
       "      <td>5.677684</td>\n",
       "      <td>1.806966</td>\n",
       "      <td>0.021263</td>\n",
       "      <td>0.251161</td>\n",
       "      <td>0.116480</td>\n",
       "      <td>0.194908</td>\n",
       "      <td>0.070492</td>\n",
       "      <td>0.016709</td>\n",
       "      <td>1.608270</td>\n",
       "      <td>0.342553</td>\n",
       "      <td>1.605422</td>\n",
       "    </tr>\n",
       "    <tr>\n",
       "      <th>min</th>\n",
       "      <td>1.000000</td>\n",
       "      <td>1.000000</td>\n",
       "      <td>1.000000</td>\n",
       "      <td>1.000000</td>\n",
       "      <td>0.000000</td>\n",
       "      <td>0.000000</td>\n",
       "      <td>0.000000</td>\n",
       "      <td>0.000000</td>\n",
       "      <td>0.000000</td>\n",
       "      <td>0.000000</td>\n",
       "      <td>0.000000</td>\n",
       "      <td>0.000000</td>\n",
       "      <td>0.000000</td>\n",
       "    </tr>\n",
       "    <tr>\n",
       "      <th>25%</th>\n",
       "      <td>190.000000</td>\n",
       "      <td>1.000000</td>\n",
       "      <td>5.000000</td>\n",
       "      <td>2.000000</td>\n",
       "      <td>0.000000</td>\n",
       "      <td>0.000000</td>\n",
       "      <td>0.000000</td>\n",
       "      <td>0.000000</td>\n",
       "      <td>0.000000</td>\n",
       "      <td>0.000000</td>\n",
       "      <td>0.000000</td>\n",
       "      <td>0.000000</td>\n",
       "      <td>0.000000</td>\n",
       "    </tr>\n",
       "    <tr>\n",
       "      <th>50%</th>\n",
       "      <td>379.000000</td>\n",
       "      <td>1.000000</td>\n",
       "      <td>10.000000</td>\n",
       "      <td>4.000000</td>\n",
       "      <td>0.000000</td>\n",
       "      <td>0.000000</td>\n",
       "      <td>0.000000</td>\n",
       "      <td>0.000000</td>\n",
       "      <td>0.000000</td>\n",
       "      <td>0.000000</td>\n",
       "      <td>1.000000</td>\n",
       "      <td>0.000000</td>\n",
       "      <td>1.000000</td>\n",
       "    </tr>\n",
       "    <tr>\n",
       "      <th>75%</th>\n",
       "      <td>567.000000</td>\n",
       "      <td>2.000000</td>\n",
       "      <td>15.000000</td>\n",
       "      <td>5.000000</td>\n",
       "      <td>0.000000</td>\n",
       "      <td>0.000000</td>\n",
       "      <td>0.000000</td>\n",
       "      <td>0.000000</td>\n",
       "      <td>0.000000</td>\n",
       "      <td>0.000000</td>\n",
       "      <td>1.000000</td>\n",
       "      <td>0.000000</td>\n",
       "      <td>1.000000</td>\n",
       "    </tr>\n",
       "    <tr>\n",
       "      <th>max</th>\n",
       "      <td>11415.000000</td>\n",
       "      <td>5.000000</td>\n",
       "      <td>20.000000</td>\n",
       "      <td>9.000000</td>\n",
       "      <td>1.000000</td>\n",
       "      <td>5.000000</td>\n",
       "      <td>4.000000</td>\n",
       "      <td>5.000000</td>\n",
       "      <td>5.000000</td>\n",
       "      <td>5.000000</td>\n",
       "      <td>7.000000</td>\n",
       "      <td>7.000000</td>\n",
       "      <td>10.000000</td>\n",
       "    </tr>\n",
       "  </tbody>\n",
       "</table>\n",
       "</div>"
      ],
      "text/plain": [
       "            match_id         inning           over           ball  \\\n",
       "count  179078.000000  179078.000000  179078.000000  179078.000000   \n",
       "mean     1802.252957       1.482952      10.162488       3.615587   \n",
       "std      3472.322805       0.502074       5.677684       1.806966   \n",
       "min         1.000000       1.000000       1.000000       1.000000   \n",
       "25%       190.000000       1.000000       5.000000       2.000000   \n",
       "50%       379.000000       1.000000      10.000000       4.000000   \n",
       "75%       567.000000       2.000000      15.000000       5.000000   \n",
       "max     11415.000000       5.000000      20.000000       9.000000   \n",
       "\n",
       "       is_super_over      wide_runs       bye_runs    legbye_runs  \\\n",
       "count  179078.000000  179078.000000  179078.000000  179078.000000   \n",
       "mean        0.000452       0.036721       0.004936       0.021136   \n",
       "std         0.021263       0.251161       0.116480       0.194908   \n",
       "min         0.000000       0.000000       0.000000       0.000000   \n",
       "25%         0.000000       0.000000       0.000000       0.000000   \n",
       "50%         0.000000       0.000000       0.000000       0.000000   \n",
       "75%         0.000000       0.000000       0.000000       0.000000   \n",
       "max         1.000000       5.000000       4.000000       5.000000   \n",
       "\n",
       "         noball_runs   penalty_runs   batsman_runs     extra_runs  \\\n",
       "count  179078.000000  179078.000000  179078.000000  179078.000000   \n",
       "mean        0.004183       0.000056       1.246864       0.067032   \n",
       "std         0.070492       0.016709       1.608270       0.342553   \n",
       "min         0.000000       0.000000       0.000000       0.000000   \n",
       "25%         0.000000       0.000000       0.000000       0.000000   \n",
       "50%         0.000000       0.000000       1.000000       0.000000   \n",
       "75%         0.000000       0.000000       1.000000       0.000000   \n",
       "max         5.000000       5.000000       7.000000       7.000000   \n",
       "\n",
       "          total_runs  \n",
       "count  179078.000000  \n",
       "mean        1.313897  \n",
       "std         1.605422  \n",
       "min         0.000000  \n",
       "25%         0.000000  \n",
       "50%         1.000000  \n",
       "75%         1.000000  \n",
       "max        10.000000  "
      ]
     },
     "execution_count": 6,
     "metadata": {},
     "output_type": "execute_result"
    }
   ],
   "source": [
    "# to get the statiscal values of the numerical data\n",
    "d_data.describe()"
   ]
  },
  {
   "cell_type": "code",
   "execution_count": 7,
   "metadata": {},
   "outputs": [
    {
     "data": {
      "text/plain": [
       "RangeIndex(start=0, stop=179078, step=1)"
      ]
     },
     "execution_count": 7,
     "metadata": {},
     "output_type": "execute_result"
    }
   ],
   "source": [
    "# to get index values of data\n",
    "d_data.index"
   ]
  },
  {
   "cell_type": "code",
   "execution_count": 8,
   "metadata": {},
   "outputs": [
    {
     "data": {
      "text/plain": [
       "Index(['match_id', 'inning', 'batting_team', 'bowling_team', 'over', 'ball',\n",
       "       'batsman', 'non_striker', 'bowler', 'is_super_over', 'wide_runs',\n",
       "       'bye_runs', 'legbye_runs', 'noball_runs', 'penalty_runs',\n",
       "       'batsman_runs', 'extra_runs', 'total_runs', 'player_dismissed',\n",
       "       'dismissal_kind', 'fielder'],\n",
       "      dtype='object')"
      ]
     },
     "execution_count": 8,
     "metadata": {},
     "output_type": "execute_result"
    }
   ],
   "source": [
    "#to display columns of the data\n",
    "d_data.columns"
   ]
  },
  {
   "cell_type": "code",
   "execution_count": 9,
   "metadata": {},
   "outputs": [
    {
     "data": {
      "text/plain": [
       "match_id             int64\n",
       "inning               int64\n",
       "batting_team        object\n",
       "bowling_team        object\n",
       "over                 int64\n",
       "ball                 int64\n",
       "batsman             object\n",
       "non_striker         object\n",
       "bowler              object\n",
       "is_super_over        int64\n",
       "wide_runs            int64\n",
       "bye_runs             int64\n",
       "legbye_runs          int64\n",
       "noball_runs          int64\n",
       "penalty_runs         int64\n",
       "batsman_runs         int64\n",
       "extra_runs           int64\n",
       "total_runs           int64\n",
       "player_dismissed    object\n",
       "dismissal_kind      object\n",
       "fielder             object\n",
       "dtype: object"
      ]
     },
     "execution_count": 9,
     "metadata": {},
     "output_type": "execute_result"
    }
   ],
   "source": [
    "# to get the data type of the given data\n",
    "d_data.dtypes"
   ]
  },
  {
   "cell_type": "code",
   "execution_count": 10,
   "metadata": {},
   "outputs": [
    {
     "data": {
      "text/plain": [
       "match_id            179078\n",
       "inning              179078\n",
       "batting_team        179078\n",
       "bowling_team        179078\n",
       "over                179078\n",
       "ball                179078\n",
       "batsman             179078\n",
       "non_striker         179078\n",
       "bowler              179078\n",
       "is_super_over       179078\n",
       "wide_runs           179078\n",
       "bye_runs            179078\n",
       "legbye_runs         179078\n",
       "noball_runs         179078\n",
       "penalty_runs        179078\n",
       "batsman_runs        179078\n",
       "extra_runs          179078\n",
       "total_runs          179078\n",
       "player_dismissed      8834\n",
       "dismissal_kind        8834\n",
       "fielder               6448\n",
       "dtype: int64"
      ]
     },
     "execution_count": 10,
     "metadata": {},
     "output_type": "execute_result"
    }
   ],
   "source": [
    "# to get the variable count of data\n",
    "d_data.count()"
   ]
  },
  {
   "cell_type": "code",
   "execution_count": 11,
   "metadata": {},
   "outputs": [
    {
     "data": {
      "text/plain": [
       "match_id            756\n",
       "inning                5\n",
       "batting_team         15\n",
       "bowling_team         15\n",
       "over                 20\n",
       "ball                  9\n",
       "batsman             516\n",
       "non_striker         511\n",
       "bowler              405\n",
       "is_super_over         2\n",
       "wide_runs             6\n",
       "bye_runs              5\n",
       "legbye_runs           6\n",
       "noball_runs           5\n",
       "penalty_runs          2\n",
       "batsman_runs          8\n",
       "extra_runs            7\n",
       "total_runs           10\n",
       "player_dismissed    487\n",
       "dismissal_kind        9\n",
       "fielder             499\n",
       "dtype: int64"
      ]
     },
     "execution_count": 11,
     "metadata": {},
     "output_type": "execute_result"
    }
   ],
   "source": [
    "#to get all the unique values of different variables in the data\n",
    "d_data.nunique()"
   ]
  },
  {
   "cell_type": "code",
   "execution_count": 12,
   "metadata": {},
   "outputs": [
    {
     "data": {
      "text/html": [
       "<div>\n",
       "<style scoped>\n",
       "    .dataframe tbody tr th:only-of-type {\n",
       "        vertical-align: middle;\n",
       "    }\n",
       "\n",
       "    .dataframe tbody tr th {\n",
       "        vertical-align: top;\n",
       "    }\n",
       "\n",
       "    .dataframe thead th {\n",
       "        text-align: right;\n",
       "    }\n",
       "</style>\n",
       "<table border=\"1\" class=\"dataframe\">\n",
       "  <thead>\n",
       "    <tr style=\"text-align: right;\">\n",
       "      <th></th>\n",
       "      <th>match_id</th>\n",
       "      <th>inning</th>\n",
       "      <th>batting_team</th>\n",
       "      <th>bowling_team</th>\n",
       "      <th>over</th>\n",
       "      <th>ball</th>\n",
       "      <th>batsman</th>\n",
       "      <th>non_striker</th>\n",
       "      <th>bowler</th>\n",
       "      <th>is_super_over</th>\n",
       "      <th>...</th>\n",
       "      <th>bye_runs</th>\n",
       "      <th>legbye_runs</th>\n",
       "      <th>noball_runs</th>\n",
       "      <th>penalty_runs</th>\n",
       "      <th>batsman_runs</th>\n",
       "      <th>extra_runs</th>\n",
       "      <th>total_runs</th>\n",
       "      <th>player_dismissed</th>\n",
       "      <th>dismissal_kind</th>\n",
       "      <th>fielder</th>\n",
       "    </tr>\n",
       "  </thead>\n",
       "  <tbody>\n",
       "    <tr>\n",
       "      <th>0</th>\n",
       "      <td>1</td>\n",
       "      <td>1</td>\n",
       "      <td>Sunrisers Hyderabad</td>\n",
       "      <td>Royal Challengers Bangalore</td>\n",
       "      <td>1</td>\n",
       "      <td>1</td>\n",
       "      <td>DA Warner</td>\n",
       "      <td>S Dhawan</td>\n",
       "      <td>TS Mills</td>\n",
       "      <td>0</td>\n",
       "      <td>...</td>\n",
       "      <td>0</td>\n",
       "      <td>0</td>\n",
       "      <td>0</td>\n",
       "      <td>0</td>\n",
       "      <td>0</td>\n",
       "      <td>0</td>\n",
       "      <td>0</td>\n",
       "      <td>NaN</td>\n",
       "      <td>NaN</td>\n",
       "      <td>NaN</td>\n",
       "    </tr>\n",
       "    <tr>\n",
       "      <th>1</th>\n",
       "      <td>1</td>\n",
       "      <td>1</td>\n",
       "      <td>Sunrisers Hyderabad</td>\n",
       "      <td>Royal Challengers Bangalore</td>\n",
       "      <td>1</td>\n",
       "      <td>2</td>\n",
       "      <td>DA Warner</td>\n",
       "      <td>S Dhawan</td>\n",
       "      <td>TS Mills</td>\n",
       "      <td>0</td>\n",
       "      <td>...</td>\n",
       "      <td>0</td>\n",
       "      <td>0</td>\n",
       "      <td>0</td>\n",
       "      <td>0</td>\n",
       "      <td>0</td>\n",
       "      <td>0</td>\n",
       "      <td>0</td>\n",
       "      <td>NaN</td>\n",
       "      <td>NaN</td>\n",
       "      <td>NaN</td>\n",
       "    </tr>\n",
       "    <tr>\n",
       "      <th>2</th>\n",
       "      <td>1</td>\n",
       "      <td>1</td>\n",
       "      <td>Sunrisers Hyderabad</td>\n",
       "      <td>Royal Challengers Bangalore</td>\n",
       "      <td>1</td>\n",
       "      <td>3</td>\n",
       "      <td>DA Warner</td>\n",
       "      <td>S Dhawan</td>\n",
       "      <td>TS Mills</td>\n",
       "      <td>0</td>\n",
       "      <td>...</td>\n",
       "      <td>0</td>\n",
       "      <td>0</td>\n",
       "      <td>0</td>\n",
       "      <td>0</td>\n",
       "      <td>4</td>\n",
       "      <td>0</td>\n",
       "      <td>4</td>\n",
       "      <td>NaN</td>\n",
       "      <td>NaN</td>\n",
       "      <td>NaN</td>\n",
       "    </tr>\n",
       "  </tbody>\n",
       "</table>\n",
       "<p>3 rows × 21 columns</p>\n",
       "</div>"
      ],
      "text/plain": [
       "   match_id  inning         batting_team                 bowling_team  over  \\\n",
       "0         1       1  Sunrisers Hyderabad  Royal Challengers Bangalore     1   \n",
       "1         1       1  Sunrisers Hyderabad  Royal Challengers Bangalore     1   \n",
       "2         1       1  Sunrisers Hyderabad  Royal Challengers Bangalore     1   \n",
       "\n",
       "   ball    batsman non_striker    bowler  is_super_over  ...  bye_runs  \\\n",
       "0     1  DA Warner    S Dhawan  TS Mills              0  ...         0   \n",
       "1     2  DA Warner    S Dhawan  TS Mills              0  ...         0   \n",
       "2     3  DA Warner    S Dhawan  TS Mills              0  ...         0   \n",
       "\n",
       "   legbye_runs  noball_runs  penalty_runs  batsman_runs  extra_runs  \\\n",
       "0            0            0             0             0           0   \n",
       "1            0            0             0             0           0   \n",
       "2            0            0             0             4           0   \n",
       "\n",
       "   total_runs  player_dismissed dismissal_kind fielder  \n",
       "0           0               NaN            NaN     NaN  \n",
       "1           0               NaN            NaN     NaN  \n",
       "2           4               NaN            NaN     NaN  \n",
       "\n",
       "[3 rows x 21 columns]"
      ]
     },
     "execution_count": 12,
     "metadata": {},
     "output_type": "execute_result"
    }
   ],
   "source": [
    "# dropping the duplicate entries in dataset\n",
    "d_data.drop_duplicates().head(3)"
   ]
  },
  {
   "cell_type": "code",
   "execution_count": 13,
   "metadata": {},
   "outputs": [
    {
     "data": {
      "text/plain": [
       "(179078, 21)"
      ]
     },
     "execution_count": 13,
     "metadata": {},
     "output_type": "execute_result"
    }
   ],
   "source": [
    "# shape of data after dropping the duplicates\n",
    "d_data.shape"
   ]
  },
  {
   "cell_type": "code",
   "execution_count": 14,
   "metadata": {},
   "outputs": [
    {
     "data": {
      "text/plain": [
       "1    92742\n",
       "2    86240\n",
       "3       50\n",
       "4       38\n",
       "5        8\n",
       "Name: inning, dtype: int64"
      ]
     },
     "execution_count": 14,
     "metadata": {},
     "output_type": "execute_result"
    }
   ],
   "source": [
    "# no.of different innings in data\n",
    "d_data[\"inning\"].value_counts()"
   ]
  },
  {
   "cell_type": "code",
   "execution_count": 15,
   "metadata": {},
   "outputs": [
    {
     "data": {
      "text/plain": [
       "Mumbai Indians                 22619\n",
       "Kings XI Punjab                20931\n",
       "Royal Challengers Bangalore    20908\n",
       "Kolkata Knight Riders          20858\n",
       "Chennai Super Kings            19762\n",
       "Delhi Daredevils               18786\n",
       "Rajasthan Royals               17292\n",
       "Sunrisers Hyderabad            12908\n",
       "Deccan Chargers                 9034\n",
       "Pune Warriors                   5443\n",
       "Gujarat Lions                   3566\n",
       "Delhi Capitals                  1909\n",
       "Rising Pune Supergiant          1900\n",
       "Kochi Tuskers Kerala            1582\n",
       "Rising Pune Supergiants         1580\n",
       "Name: batting_team, dtype: int64"
      ]
     },
     "execution_count": 15,
     "metadata": {},
     "output_type": "execute_result"
    }
   ],
   "source": [
    "d_data[\"batting_team\"].value_counts()"
   ]
  },
  {
   "cell_type": "code",
   "execution_count": 16,
   "metadata": {},
   "outputs": [
    {
     "data": {
      "text/plain": [
       "Mumbai Indians                 22517\n",
       "Royal Challengers Bangalore    21236\n",
       "Kolkata Knight Riders          20940\n",
       "Kings XI Punjab                20782\n",
       "Chennai Super Kings            19556\n",
       "Delhi Daredevils               18725\n",
       "Rajasthan Royals               17382\n",
       "Sunrisers Hyderabad            12779\n",
       "Deccan Chargers                 9039\n",
       "Pune Warriors                   5457\n",
       "Gujarat Lions                   3545\n",
       "Delhi Capitals                  1963\n",
       "Rising Pune Supergiant          1928\n",
       "Rising Pune Supergiants         1615\n",
       "Kochi Tuskers Kerala            1614\n",
       "Name: bowling_team, dtype: int64"
      ]
     },
     "execution_count": 16,
     "metadata": {},
     "output_type": "execute_result"
    }
   ],
   "source": [
    "d_data[\"bowling_team\"].value_counts()"
   ]
  },
  {
   "cell_type": "code",
   "execution_count": 17,
   "metadata": {},
   "outputs": [
    {
     "data": {
      "text/plain": [
       "array([ 1,  2,  3,  4,  5,  6,  7,  8,  9, 10, 11, 12, 13, 14, 15, 16, 17,\n",
       "       18, 19, 20], dtype=int64)"
      ]
     },
     "execution_count": 17,
     "metadata": {},
     "output_type": "execute_result"
    }
   ],
   "source": [
    "# no of overs\n",
    "d_data[\"over\"].unique()"
   ]
  },
  {
   "cell_type": "code",
   "execution_count": 18,
   "metadata": {},
   "outputs": [
    {
     "data": {
      "text/plain": [
       "array([1, 2, 3, 4, 5, 6, 7, 8, 9], dtype=int64)"
      ]
     },
     "execution_count": 18,
     "metadata": {},
     "output_type": "execute_result"
    }
   ],
   "source": [
    "# no. of balls\n",
    "d_data[\"ball\"].unique()"
   ]
  },
  {
   "cell_type": "code",
   "execution_count": 19,
   "metadata": {},
   "outputs": [
    {
     "data": {
      "text/plain": [
       "V Kohli           4211\n",
       "SK Raina          4044\n",
       "RG Sharma         3816\n",
       "S Dhawan          3776\n",
       "G Gambhir         3524\n",
       "                  ... \n",
       "K Ahmed              1\n",
       "J Denly              1\n",
       "YA Abdulla           1\n",
       "V Pratap Singh       1\n",
       "P Raj                1\n",
       "Name: batsman, Length: 516, dtype: int64"
      ]
     },
     "execution_count": 19,
     "metadata": {},
     "output_type": "execute_result"
    }
   ],
   "source": [
    "d_data[\"batsman\"].value_counts()"
   ]
  },
  {
   "cell_type": "code",
   "execution_count": 20,
   "metadata": {},
   "outputs": [
    {
     "data": {
      "text/plain": [
       "array(['DA Warner', 'S Dhawan', 'MC Henriques', 'Yuvraj Singh',\n",
       "       'DJ Hooda', 'BCJ Cutting', 'CH Gayle', 'Mandeep Singh', 'TM Head',\n",
       "       'KM Jadhav', 'SR Watson', 'Sachin Baby', 'STR Binny', 'S Aravind',\n",
       "       'YS Chahal', 'TS Mills', 'A Choudhary', 'PA Patel', 'JC Buttler',\n",
       "       'RG Sharma', 'N Rana', 'AT Rayudu', 'KH Pandya', 'KA Pollard',\n",
       "       'HH Pandya', 'TG Southee', 'AM Rahane', 'MA Agarwal', 'SPD Smith',\n",
       "       'BA Stokes', 'MS Dhoni', 'JJ Roy', 'BB McCullum', 'SK Raina',\n",
       "       'AJ Finch', 'KD Karthik', 'G Gambhir', 'CA Lynn', 'MK Tiwary',\n",
       "       'DT Christian', 'HM Amla', 'M Vohra', 'WP Saha', 'AR Patel',\n",
       "       'GJ Maxwell', 'DA Miller', 'Vishnu Vinod', 'Iqbal Abdulla',\n",
       "       'P Negi', 'AP Tare', 'SW Billings', 'KK Nair', 'SV Samson',\n",
       "       'RR Pant', 'CH Morris', 'CR Brathwaite', 'PJ Cummins', 'A Mishra',\n",
       "       'S Nadeem', 'Z Khan', 'DR Smith', 'DS Kulkarni', 'P Kumar',\n",
       "       'Basil Thampi', 'RV Uthappa', 'MK Pandey', 'YK Pathan', 'SA Yadav',\n",
       "       'CR Woakes', 'SP Narine', 'Harbhajan Singh', 'AB de Villiers',\n",
       "       'CJ Anderson', 'F du Plessis', 'RA Tripathi', 'R Bhatia',\n",
       "       'DL Chahar', 'A Zampa', 'AB Dinda', 'Imran Tahir', 'NV Ojha',\n",
       "       'V Shankar', 'Rashid Khan', 'B Kumar', 'MP Stoinis', 'MM Sharma',\n",
       "       'VR Aaron', 'V Kohli', 'MJ McClenaghan', 'Ankit Sharma',\n",
       "       'SN Thakur', 'RD Chahar', 'LH Ferguson', 'C de Grandhomme',\n",
       "       'Bipul Sharma', 'SS Iyer', 'EJG Morgan', 'KC Cariappa',\n",
       "       'Sandeep Sharma', 'Ishan Kishan', 'JD Unadkat', 'AF Milne',\n",
       "       'S Badree', 'AD Mathews', 'Mohammed Shami', 'Mohammad Nabi',\n",
       "       'I Sharma', 'RA Jadeja', 'AJ Tye', 'KS Williamson', 'SE Marsh',\n",
       "       'Shakib Al Hasan', 'JP Faulkner', 'MG Johnson', 'K Rabada',\n",
       "       'AD Nath', 'NM Coulter-Nile', 'Kuldeep Yadav', 'UT Yadav',\n",
       "       'Washington Sundar', 'KV Sharma', 'DM Bravo', 'AR Bawne',\n",
       "       'SP Jackson', 'MJ Guptill', 'Anureet Singh', 'IK Pathan',\n",
       "       'Ankit Soni', 'JJ Bumrah', 'SL Malinga', 'PJ Sangwan', 'S Kaul',\n",
       "       'LMP Simmons', 'MN Samuels', 'Swapnil Singh', 'R Tewatia',\n",
       "       'MM Patel', 'SS Tiwary', 'TA Boult', 'CJ Jordan', 'IR Jaggi',\n",
       "       'PP Chawla', 'AS Rajpoot', 'SC Ganguly', 'RT Ponting', 'DJ Hussey',\n",
       "       'Mohammad Hafeez', 'R Dravid', 'W Jaffer', 'JH Kallis', 'CL White',\n",
       "       'MV Boucher', 'B Akhil', 'AA Noffke', 'SB Joshi', 'ML Hayden',\n",
       "       'MEK Hussey', 'JDP Oram', 'S Badrinath', 'K Goel', 'JR Hopes',\n",
       "       'KC Sangakkara', 'SM Katich', 'T Kohli', 'M Kaif', 'DS Lehmann',\n",
       "       'M Rawat', 'D Salunkhe', 'SK Warne', 'SK Trivedi', 'V Sehwag',\n",
       "       'L Ronchi', 'ST Jayasuriya', 'DJ Thornely', 'PR Shah', 'AM Nayar',\n",
       "       'SM Pollock', 'S Chanderpaul', 'LRPL Taylor', 'AC Gilchrist',\n",
       "       'Y Venugopal Rao', 'VVS Laxman', 'A Symonds', 'SB Styris',\n",
       "       'AS Yadav', 'SB Bangar', 'WPUJC Vaas', 'RP Singh', 'LR Shukla',\n",
       "       'DPMD Jayawardene', 'S Sohal', 'B Lee', 'WA Mota', 'Kamran Akmal',\n",
       "       'Shahid Afridi', 'DJ Bravo', 'MA Khote', 'A Nehra', 'GC Smith',\n",
       "       'Pankaj Singh', 'RR Sarwan', 'S Sreesanth', 'VRV Singh',\n",
       "       'R Vinay Kumar', 'AB Agarkar', 'M Kartik', 'Shoaib Malik',\n",
       "       'MF Maharoof', 'VY Mahesh', 'TM Srivastava', 'B Chipli',\n",
       "       'DW Steyn', 'DB Das', 'HH Gibbs', 'DNT Zoysa', 'D Kalyankrishna',\n",
       "       'SA Asnodkar', 'Sohail Tanvir', 'Salman Butt', 'BJ Hodge',\n",
       "       'Umar Gul', 'SP Fleming', 'S Vidyut', 'JA Morkel', 'LPC Silva',\n",
       "       'DB Ravi Teja', 'Misbah-ul-Haq', 'YV Takawale', 'RR Raje',\n",
       "       'Mohammad Asif', 'GD McGrath', 'Joginder Sharma', 'MS Gony',\n",
       "       'M Muralitharan', 'M Ntini', 'DT Patil', 'A Kumble', 'S Anirudha',\n",
       "       'CK Kapugedera', 'A Chopra', 'T Taibu', 'J Arunkumar', 'PP Ojha',\n",
       "       'SP Goswami', 'SR Tendulkar', 'U Kaul', 'TM Dilshan',\n",
       "       'AD Mascarenhas', 'Niraj Patel', 'LA Pomersbach', 'Younis Khan',\n",
       "       'PM Sarvesh Kumar', 'DP Vijaykumar', 'Shoaib Akhtar',\n",
       "       'Abdur Razzak', 'H Das', 'SD Chitnis', 'CRD Fernando',\n",
       "       'VS Yeligati', 'L Balaji', 'A Mukund', 'RR Powar', 'JP Duminy',\n",
       "       'A Flintoff', 'T Thushara', 'JD Ryder', 'KP Pietersen',\n",
       "       'T Henderson', 'Kamran Khan', 'RS Bopara', 'R Bishnoi',\n",
       "       'FH Edwards', 'PC Valthaty', 'RJ Quiney', 'AS Raut',\n",
       "       'Yashpal Singh', 'M Manhas', 'AA Bilakhia', 'AN Ghosh',\n",
       "       'BAW Mendis', 'DL Vettori', 'MN van Wyk', 'RE van der Merwe',\n",
       "       'TL Suman', 'Shoaib Ahmed', 'GR Napier', 'KP Appanna',\n",
       "       'LA Carseldine', 'SM Harwood', 'M Vijay', 'SB Jakati', 'RJ Harris',\n",
       "       'D du Preez', 'M Morkel', 'J Botha', 'C Nanda', 'Mashrafe Mortaza',\n",
       "       'A Singh', 'GJ Bailey', 'AB McDonald', 'Y Nagar', 'SS Shaikh',\n",
       "       'R Ashwin', 'Mohammad Ashraful', 'CA Pujara', 'OA Shah',\n",
       "       'Anirudh Singh', 'Jaskaran Singh', 'R Sathish', 'R McLaren',\n",
       "       'AA Jhunjhunwala', 'P Dogra', 'A Uniyal', 'MS Bisla', 'YA Abdulla',\n",
       "       'JM Kemp', 'S Tyagi', 'RS Gavaskar', 'SE Bond', 'S Ladda',\n",
       "       'DP Nannes', 'MJ Lumb', 'DR Martyn', 'S Narwal', 'AB Barath',\n",
       "       'FY Fazal', 'AC Voges', 'MD Mishra', 'J Theron', 'SJ Srivastava',\n",
       "       'R Sharma', 'SW Tait', 'KB Arun Karthik', 'KAJ Roach',\n",
       "       'PD Collingwood', 'CK Langeveldt', 'VS Malik', 'A Mithun',\n",
       "       'AP Dole', 'AN Ahmed', 'RS Sodhi', 'DE Bollinger', 'S Sriram',\n",
       "       'B Sumanth', 'C Madan', 'AG Paunikar', 'MR Marsh', 'Harmeet Singh',\n",
       "       'RV Gomez', 'AUK Pathan', 'UBT Chand', 'DJ Jacobs', 'Sunny Singh',\n",
       "       'NJ Rimmington', 'AL Menaria', 'WD Parnell', 'JJ van der Wath',\n",
       "       'R Ninan', 'MS Wade', 'TD Paine', 'SB Wagh', 'AC Thomas',\n",
       "       'JEC Franklin', 'DH Yagnik', 'S Randiv', 'BJ Haddin',\n",
       "       'NLTC Perera', 'NL McCullum', 'JE Taylor', 'J Syed Mohammad',\n",
       "       'RN ten Doeschate', 'TR Birt', 'AG Murtaza', 'Harpreet Singh',\n",
       "       'M Klinger', 'AC Blizzard', 'I Malhotra', 'L Ablish', 'CA Ingram',\n",
       "       'P Parameswaran', 'CJ Ferguson', 'AA Chavan', 'ND Doshi',\n",
       "       'Y Gnaneswara Rao', 'S Rana', 'BA Bhatt', 'RE Levi', 'KK Cooper',\n",
       "       'HV Patel', 'DAJ Bracewell', 'DJ Harris', 'GB Hogg', 'RR Bhatkal',\n",
       "       'CJ McKay', 'N Saini', 'Azhar Mahmood', 'RJ Peterson',\n",
       "       'KMDN Kulasekara', 'A Ashish Reddy', 'V Pratap Singh',\n",
       "       'BB Samantray', 'MJ Clarke', 'Gurkeerat Singh', 'AP Majumdar',\n",
       "       'PA Reddy', 'K Upadhyay', 'P Awana', 'AD Russell', 'A Chandila',\n",
       "       'Sunny Gupta', 'MC Juneja', 'GH Vihari', 'MDKJ Perera', 'R Shukla',\n",
       "       'B Laughlin', 'BMAJ Mendis', 'R Rampaul', 'SMSM Senanayake',\n",
       "       'BJ Rohrer', 'KL Rahul', 'Q de Kock', 'R Dhawan', 'LJ Wright',\n",
       "       'IC Pandey', 'CM Gautam', 'X Thalaivan Sargunam', 'DJG Sammy',\n",
       "       'KW Richardson', 'UA Birla', 'Parvez Rasool', 'PV Tambe',\n",
       "       'NJ Maddinson', 'JDS Neesham', 'MA Starc', 'BR Dunk', 'RR Rossouw',\n",
       "       'Shivam Sharma', 'VH Zol', 'BE Hendricks', 'S Gopal', 'M de Lange',\n",
       "       'JO Holder', 'Karanveer Singh', 'SA Abbott', 'J Suchith',\n",
       "       'RG More', 'D Wiese', 'SN Khan', 'DJ Muthuswami', 'C Munro',\n",
       "       'P Sahu', 'KJ Abbott', 'M Ashwin', 'NS Naik', 'PSP Handscomb',\n",
       "       'J Yadav', 'UT Khawaja', 'F Behardien', 'BB Sran', 'S Kaushik',\n",
       "       'ER Dwivedi', 'E Lewis', 'M Wood', 'R Singh', 'D Short',\n",
       "       'K Gowtham', 'T Curran', 'M Markande', 'B Stanlake', 'M Ur Rahman',\n",
       "       'A Dananjaya', 'S Gill', 'S Mavi', 'Mohammed Siraj', 'H Klaasen',\n",
       "       'R Bhui', 'J Archer', 'P Shaw', 'L Plunkett', 'Mustafizur Rahman',\n",
       "       'A Hales', 'M Lomror', 'D Shorey', 'M Ali', 'P Krishna',\n",
       "       'P Chopra', 'J Searles', 'I Sodhi', 'S Hetmyer', 'S Dube',\n",
       "       'J Bairstow', 'C Ingram', 'K Paul', 'R Salam', 'N Pooran',\n",
       "       'N Naik', 'H Vihari', 'P R Barman', 'S Curran', 'H Viljoen',\n",
       "       'Avesh Khan', 'S Lamichhane', 'S Sharma', 'H Gurney', 'SD Lad',\n",
       "       'A Joseph', 'R Parag', 'M Santner', 'J Denly', 'L Livingstone',\n",
       "       'K Ahmed', 'A Turner', 'H Brar', 'S Rutherford', 'P Raj',\n",
       "       'S Singh'], dtype=object)"
      ]
     },
     "execution_count": 20,
     "metadata": {},
     "output_type": "execute_result"
    }
   ],
   "source": [
    "# total batsman playing in the match\n",
    "d_data[\"batsman\"].unique()"
   ]
  },
  {
   "cell_type": "code",
   "execution_count": 21,
   "metadata": {},
   "outputs": [
    {
     "data": {
      "text/plain": [
       "SK Raina            4173\n",
       "S Dhawan            4090\n",
       "V Kohli             4071\n",
       "RG Sharma           3858\n",
       "G Gambhir           3740\n",
       "                    ... \n",
       "C Ganapathy            2\n",
       "TP Sudhindra           1\n",
       "S Randiv               1\n",
       "PM Sarvesh Kumar       1\n",
       "BW Hilfenhaus          1\n",
       "Name: non_striker, Length: 511, dtype: int64"
      ]
     },
     "execution_count": 21,
     "metadata": {},
     "output_type": "execute_result"
    }
   ],
   "source": [
    "d_data[\"non_striker\"].value_counts()"
   ]
  },
  {
   "cell_type": "code",
   "execution_count": 22,
   "metadata": {},
   "outputs": [
    {
     "data": {
      "text/plain": [
       "array(['S Dhawan', 'DA Warner', 'MC Henriques', 'Yuvraj Singh',\n",
       "       'DJ Hooda', 'BCJ Cutting', 'Mandeep Singh', 'CH Gayle', 'TM Head',\n",
       "       'KM Jadhav', 'SR Watson', 'Sachin Baby', 'STR Binny', 'S Aravind',\n",
       "       'TS Mills', 'YS Chahal', 'A Choudhary', 'JC Buttler', 'PA Patel',\n",
       "       'RG Sharma', 'N Rana', 'AT Rayudu', 'KH Pandya', 'KA Pollard',\n",
       "       'HH Pandya', 'TG Southee', 'MJ McClenaghan', 'MA Agarwal',\n",
       "       'AM Rahane', 'SPD Smith', 'BA Stokes', 'MS Dhoni', 'BB McCullum',\n",
       "       'JJ Roy', 'SK Raina', 'AJ Finch', 'KD Karthik', 'DR Smith',\n",
       "       'CA Lynn', 'G Gambhir', 'MK Tiwary', 'DT Christian', 'R Bhatia',\n",
       "       'M Vohra', 'HM Amla', 'WP Saha', 'AR Patel', 'GJ Maxwell',\n",
       "       'DA Miller', 'Vishnu Vinod', 'P Negi', 'Iqbal Abdulla',\n",
       "       'SW Billings', 'AP Tare', 'KK Nair', 'SV Samson', 'RR Pant',\n",
       "       'CH Morris', 'CR Brathwaite', 'PJ Cummins', 'A Mishra', 'Z Khan',\n",
       "       'DS Kulkarni', 'P Kumar', 'Basil Thampi', 'MK Pandey', 'YK Pathan',\n",
       "       'SA Yadav', 'CR Woakes', 'SP Narine', 'Harbhajan Singh',\n",
       "       'AB de Villiers', 'CJ Anderson', 'F du Plessis', 'RA Tripathi',\n",
       "       'DL Chahar', 'A Zampa', 'AB Dinda', 'Imran Tahir', 'NV Ojha',\n",
       "       'V Shankar', 'Rashid Khan', 'B Kumar', 'A Nehra', 'MP Stoinis',\n",
       "       'MM Sharma', 'VR Aaron', 'Sandeep Sharma', 'RV Uthappa', 'V Kohli',\n",
       "       'Ankit Sharma', 'SN Thakur', 'LH Ferguson', 'RD Chahar',\n",
       "       'C de Grandhomme', 'Bipul Sharma', 'SS Iyer', 'EJG Morgan',\n",
       "       'Ishan Kishan', 'JD Unadkat', 'AF Milne', 'S Badree', 'AD Mathews',\n",
       "       'Mohammad Nabi', 'KC Cariappa', 'I Sharma', 'RA Jadeja', 'AJ Tye',\n",
       "       'KS Williamson', 'SE Marsh', 'JP Faulkner', 'K Rabada',\n",
       "       'NM Coulter-Nile', 'UT Yadav', 'Kuldeep Yadav', 'KV Sharma',\n",
       "       'MG Johnson', 'DM Bravo', 'AR Bawne', 'SP Jackson', 'MJ Guptill',\n",
       "       'Anureet Singh', 'IK Pathan', 'Ankit Soni', 'JJ Bumrah',\n",
       "       'SL Malinga', 'Mohammed Shami', 'PJ Sangwan', 'Washington Sundar',\n",
       "       'S Kaul', 'LMP Simmons', 'MN Samuels', 'Swapnil Singh',\n",
       "       'R Tewatia', 'S Nadeem', 'SS Tiwary', 'TA Boult', 'CJ Jordan',\n",
       "       'IR Jaggi', 'PP Chawla', 'AS Rajpoot', 'SC Ganguly', 'RT Ponting',\n",
       "       'DJ Hussey', 'Mohammad Hafeez', 'W Jaffer', 'R Dravid',\n",
       "       'JH Kallis', 'CL White', 'MV Boucher', 'B Akhil', 'AA Noffke',\n",
       "       'SB Joshi', 'ML Hayden', 'MEK Hussey', 'JDP Oram', 'S Badrinath',\n",
       "       'JR Hopes', 'K Goel', 'KC Sangakkara', 'SM Katich', 'T Kohli',\n",
       "       'M Kaif', 'DS Lehmann', 'M Rawat', 'D Salunkhe', 'SK Warne',\n",
       "       'SK Trivedi', 'V Sehwag', 'ST Jayasuriya', 'L Ronchi',\n",
       "       'DJ Thornely', 'PR Shah', 'AM Nayar', 'SM Pollock',\n",
       "       'S Chanderpaul', 'LRPL Taylor', 'Y Venugopal Rao', 'AC Gilchrist',\n",
       "       'VVS Laxman', 'A Symonds', 'SB Styris', 'AS Yadav', 'SB Bangar',\n",
       "       'WPUJC Vaas', 'RP Singh', 'PP Ojha', 'LR Shukla',\n",
       "       'DPMD Jayawardene', 'S Sohal', 'WA Mota', 'Kamran Akmal',\n",
       "       'Shahid Afridi', 'DJ Bravo', 'MA Khote', 'GC Smith',\n",
       "       'Pankaj Singh', 'RR Sarwan', 'B Lee', 'S Sreesanth', 'VRV Singh',\n",
       "       'R Vinay Kumar', 'AB Agarkar', 'M Kartik', 'Shoaib Malik',\n",
       "       'MF Maharoof', 'VY Mahesh', 'TM Srivastava', 'B Chipli',\n",
       "       'DW Steyn', 'DB Das', 'HH Gibbs', 'DNT Zoysa', 'D Kalyankrishna',\n",
       "       'SA Asnodkar', 'Sohail Tanvir', 'Salman Butt', 'BJ Hodge',\n",
       "       'Umar Gul', 'SP Fleming', 'S Vidyut', 'JA Morkel',\n",
       "       'Joginder Sharma', 'LPC Silva', 'DB Ravi Teja', 'DP Vijaykumar',\n",
       "       'Misbah-ul-Haq', 'YV Takawale', 'RR Raje', 'Mohammad Asif',\n",
       "       'GD McGrath', 'MS Gony', 'M Ntini', 'DT Patil', 'A Kumble',\n",
       "       'S Anirudha', 'MM Patel', 'CK Kapugedera', 'A Chopra', 'T Taibu',\n",
       "       'J Arunkumar', 'SP Goswami', 'SR Tendulkar', 'TM Dilshan',\n",
       "       'AD Mascarenhas', 'Niraj Patel', 'LA Pomersbach', 'Younis Khan',\n",
       "       'PM Sarvesh Kumar', 'Shoaib Akhtar', 'Abdur Razzak', 'H Das',\n",
       "       'SD Chitnis', 'CRD Fernando', 'A Nel', 'RR Powar', 'JP Duminy',\n",
       "       'A Flintoff', 'KP Pietersen', 'T Henderson', 'Kamran Khan',\n",
       "       'RS Bopara', 'R Bishnoi', 'FH Edwards', 'DL Vettori', 'L Balaji',\n",
       "       'M Muralitharan', 'PC Valthaty', 'AS Raut', 'Yashpal Singh',\n",
       "       'JD Ryder', 'M Manhas', 'RJ Quiney', 'AA Bilakhia', 'AN Ghosh',\n",
       "       'BAW Mendis', 'MN van Wyk', 'RE van der Merwe', 'TL Suman',\n",
       "       'GR Napier', 'KP Appanna', 'LA Carseldine', 'SM Harwood',\n",
       "       'M Vijay', 'SB Jakati', 'S Tyagi', 'RJ Harris', 'Shoaib Ahmed',\n",
       "       'D du Preez', 'M Morkel', 'J Botha', 'Mashrafe Mortaza',\n",
       "       'Jaskaran Singh', 'GJ Bailey', 'AB McDonald', 'Y Nagar', 'A Singh',\n",
       "       'SS Shaikh', 'R Ashwin', 'T Thushara', 'Mohammad Ashraful',\n",
       "       'CA Pujara', 'OA Shah', 'Anirudh Singh', 'R Sathish', 'R McLaren',\n",
       "       'AA Jhunjhunwala', 'P Dogra', 'MS Bisla', 'YA Abdulla', 'JM Kemp',\n",
       "       'A Uniyal', 'RS Gavaskar', 'SE Bond', 'S Ladda', 'DP Nannes',\n",
       "       'MJ Lumb', 'DR Martyn', 'AB Barath', 'FY Fazal', 'AC Voges',\n",
       "       'MD Mishra', 'J Theron', 'SJ Srivastava', 'S Narwal', 'SW Tait',\n",
       "       'KB Arun Karthik', 'KAJ Roach', 'PD Collingwood', 'VS Malik',\n",
       "       'C Ganapathy', 'R Sharma', 'A Mithun', 'AP Dole', 'Harmeet Singh',\n",
       "       'AN Ahmed', 'RS Sodhi', 'S Sriram', 'B Sumanth', 'C Madan',\n",
       "       'AG Paunikar', 'DE Bollinger', 'MR Marsh', 'RV Gomez',\n",
       "       'AUK Pathan', 'DJ Jacobs', 'Sunny Singh', 'NJ Rimmington',\n",
       "       'UBT Chand', 'AL Menaria', 'WD Parnell', 'R Ninan',\n",
       "       'JJ van der Wath', 'MS Wade', 'TD Paine', 'SB Wagh', 'AC Thomas',\n",
       "       'JEC Franklin', 'Shakib Al Hasan', 'DH Yagnik', 'S Randiv',\n",
       "       'BJ Haddin', 'NLTC Perera', 'NL McCullum', 'JE Taylor',\n",
       "       'J Syed Mohammad', 'RN ten Doeschate', 'TR Birt', 'AG Murtaza',\n",
       "       'Harpreet Singh', 'M Klinger', 'AC Blizzard', 'I Malhotra',\n",
       "       'L Ablish', 'P Parameswaran', 'CJ Ferguson', 'CA Ingram',\n",
       "       'AA Chavan', 'ND Doshi', 'CK Langeveldt', 'Y Gnaneswara Rao',\n",
       "       'S Rana', 'BA Bhatt', 'RE Levi', 'DAJ Bracewell', 'DJ Harris',\n",
       "       'TP Sudhindra', 'KK Cooper', 'HV Patel', 'GB Hogg', 'RR Bhatkal',\n",
       "       'CJ McKay', 'N Saini', 'Azhar Mahmood', 'RJ Peterson', 'P Awana',\n",
       "       'KMDN Kulasekara', 'A Ashish Reddy', 'BB Samantray', 'MJ Clarke',\n",
       "       'Gurkeerat Singh', 'AP Majumdar', 'PA Reddy', 'K Upadhyay',\n",
       "       'AD Russell', 'Sunny Gupta', 'MC Juneja', 'GH Vihari',\n",
       "       'MDKJ Perera', 'B Laughlin', 'BMAJ Mendis', 'R Rampaul',\n",
       "       'SMSM Senanayake', 'BJ Rohrer', 'KL Rahul', 'Q de Kock',\n",
       "       'R Dhawan', 'A Chandila', 'LJ Wright', 'CM Gautam',\n",
       "       'X Thalaivan Sargunam', 'DJG Sammy', 'A Mukund', 'KW Richardson',\n",
       "       'UA Birla', 'Parvez Rasool', 'PV Tambe', 'NJ Maddinson',\n",
       "       'JDS Neesham', 'BW Hilfenhaus', 'MA Starc', 'BR Dunk',\n",
       "       'RR Rossouw', 'R Shukla', 'VH Zol', 'BE Hendricks', 'S Gopal',\n",
       "       'M de Lange', 'JO Holder', 'Karanveer Singh', 'DJ Muthuswami',\n",
       "       'SA Abbott', 'J Suchith', 'RG More', 'D Wiese', 'SN Khan',\n",
       "       'C Munro', 'P Sahu', 'AD Nath', 'KJ Abbott', 'NS Naik',\n",
       "       'S Kaushik', 'PSP Handscomb', 'J Yadav', 'UT Khawaja',\n",
       "       'F Behardien', 'BB Sran', 'ER Dwivedi', 'E Lewis', 'M Wood',\n",
       "       'R Singh', 'D Short', 'K Gowtham', 'T Curran', 'M Markande',\n",
       "       'B Stanlake', 'M Ur Rahman', 'A Dananjaya', 'S Gill', 'S Mavi',\n",
       "       'Mohammed Siraj', 'H Klaasen', 'J Archer', 'P Shaw', 'L Plunkett',\n",
       "       'Mustafizur Rahman', 'A Hales', 'M Lomror', 'D Shorey', 'M Ali',\n",
       "       'P Krishna', 'P Chopra', 'J Searles', 'I Sodhi', 'S Hetmyer',\n",
       "       'S Dube', 'J Bairstow', 'C Ingram', 'K Paul', 'R Salam',\n",
       "       'N Pooran', 'N Naik', 'H Vihari', 'P R Barman', 'S Curran',\n",
       "       'H Viljoen', 'Avesh Khan', 'A Joseph', 'S Sharma', 'H Gurney',\n",
       "       'SD Lad', 'R Parag', 'L Livingstone', 'R Bhui', 'A Turner',\n",
       "       'H Brar', 'S Rutherford', 'P Raj', 'M Ashwin', 'M Santner',\n",
       "       'S Singh'], dtype=object)"
      ]
     },
     "execution_count": 22,
     "metadata": {},
     "output_type": "execute_result"
    }
   ],
   "source": [
    "#no. of non_strikers in the match\n",
    "d_data[\"non_striker\"].unique()"
   ]
  },
  {
   "cell_type": "code",
   "execution_count": 23,
   "metadata": {},
   "outputs": [
    {
     "data": {
      "text/plain": [
       "Harbhajan Singh    3451\n",
       "A Mishra           3172\n",
       "PP Chawla          3157\n",
       "R Ashwin           3016\n",
       "SL Malinga         2974\n",
       "                   ... \n",
       "C Ganapathy           6\n",
       "H Vihari              6\n",
       "SN Khan               2\n",
       "SPD Smith             2\n",
       "AC Gilchrist          1\n",
       "Name: bowler, Length: 405, dtype: int64"
      ]
     },
     "execution_count": 23,
     "metadata": {},
     "output_type": "execute_result"
    }
   ],
   "source": [
    "# bowlers in the match\n",
    "d_data[\"bowler\"].value_counts()"
   ]
  },
  {
   "cell_type": "code",
   "execution_count": 24,
   "metadata": {},
   "outputs": [
    {
     "data": {
      "text/plain": [
       "0    178997\n",
       "1        81\n",
       "Name: is_super_over, dtype: int64"
      ]
     },
     "execution_count": 24,
     "metadata": {},
     "output_type": "execute_result"
    }
   ],
   "source": [
    "d_data[\"is_super_over\"].value_counts()"
   ]
  },
  {
   "cell_type": "code",
   "execution_count": 25,
   "metadata": {},
   "outputs": [
    {
     "data": {
      "text/html": [
       "<div>\n",
       "<style scoped>\n",
       "    .dataframe tbody tr th:only-of-type {\n",
       "        vertical-align: middle;\n",
       "    }\n",
       "\n",
       "    .dataframe tbody tr th {\n",
       "        vertical-align: top;\n",
       "    }\n",
       "\n",
       "    .dataframe thead th {\n",
       "        text-align: right;\n",
       "    }\n",
       "</style>\n",
       "<table border=\"1\" class=\"dataframe\">\n",
       "  <thead>\n",
       "    <tr style=\"text-align: right;\">\n",
       "      <th></th>\n",
       "      <th>batting_team</th>\n",
       "      <th>bowling_team</th>\n",
       "    </tr>\n",
       "  </thead>\n",
       "  <tbody>\n",
       "    <tr>\n",
       "      <th>8092</th>\n",
       "      <td>Mumbai Indians</td>\n",
       "      <td>Gujarat Lions</td>\n",
       "    </tr>\n",
       "    <tr>\n",
       "      <th>8093</th>\n",
       "      <td>Mumbai Indians</td>\n",
       "      <td>Gujarat Lions</td>\n",
       "    </tr>\n",
       "    <tr>\n",
       "      <th>8094</th>\n",
       "      <td>Mumbai Indians</td>\n",
       "      <td>Gujarat Lions</td>\n",
       "    </tr>\n",
       "    <tr>\n",
       "      <th>8095</th>\n",
       "      <td>Mumbai Indians</td>\n",
       "      <td>Gujarat Lions</td>\n",
       "    </tr>\n",
       "    <tr>\n",
       "      <th>8096</th>\n",
       "      <td>Mumbai Indians</td>\n",
       "      <td>Gujarat Lions</td>\n",
       "    </tr>\n",
       "    <tr>\n",
       "      <th>...</th>\n",
       "      <td>...</td>\n",
       "      <td>...</td>\n",
       "    </tr>\n",
       "    <tr>\n",
       "      <th>127365</th>\n",
       "      <td>Kings XI Punjab</td>\n",
       "      <td>Rajasthan Royals</td>\n",
       "    </tr>\n",
       "    <tr>\n",
       "      <th>127366</th>\n",
       "      <td>Rajasthan Royals</td>\n",
       "      <td>Kings XI Punjab</td>\n",
       "    </tr>\n",
       "    <tr>\n",
       "      <th>127367</th>\n",
       "      <td>Rajasthan Royals</td>\n",
       "      <td>Kings XI Punjab</td>\n",
       "    </tr>\n",
       "    <tr>\n",
       "      <th>127368</th>\n",
       "      <td>Rajasthan Royals</td>\n",
       "      <td>Kings XI Punjab</td>\n",
       "    </tr>\n",
       "    <tr>\n",
       "      <th>127369</th>\n",
       "      <td>Rajasthan Royals</td>\n",
       "      <td>Kings XI Punjab</td>\n",
       "    </tr>\n",
       "  </tbody>\n",
       "</table>\n",
       "<p>81 rows × 2 columns</p>\n",
       "</div>"
      ],
      "text/plain": [
       "            batting_team      bowling_team\n",
       "8092      Mumbai Indians     Gujarat Lions\n",
       "8093      Mumbai Indians     Gujarat Lions\n",
       "8094      Mumbai Indians     Gujarat Lions\n",
       "8095      Mumbai Indians     Gujarat Lions\n",
       "8096      Mumbai Indians     Gujarat Lions\n",
       "...                  ...               ...\n",
       "127365   Kings XI Punjab  Rajasthan Royals\n",
       "127366  Rajasthan Royals   Kings XI Punjab\n",
       "127367  Rajasthan Royals   Kings XI Punjab\n",
       "127368  Rajasthan Royals   Kings XI Punjab\n",
       "127369  Rajasthan Royals   Kings XI Punjab\n",
       "\n",
       "[81 rows x 2 columns]"
      ]
     },
     "execution_count": 25,
     "metadata": {},
     "output_type": "execute_result"
    }
   ],
   "source": [
    "#teams who played super over\n",
    "d_data[d_data[\"is_super_over\"]==1][[\"batting_team\",\"bowling_team\"]]"
   ]
  },
  {
   "cell_type": "code",
   "execution_count": 26,
   "metadata": {},
   "outputs": [
    {
     "data": {
      "text/plain": [
       "0    178364\n",
       "1       698\n",
       "2         9\n",
       "5         6\n",
       "3         1\n",
       "Name: noball_runs, dtype: int64"
      ]
     },
     "execution_count": 26,
     "metadata": {},
     "output_type": "execute_result"
    }
   ],
   "source": [
    "d_data[\"noball_runs\"].value_counts()"
   ]
  },
  {
   "cell_type": "code",
   "execution_count": 27,
   "metadata": {},
   "outputs": [
    {
     "data": {
      "text/html": [
       "<div>\n",
       "<style scoped>\n",
       "    .dataframe tbody tr th:only-of-type {\n",
       "        vertical-align: middle;\n",
       "    }\n",
       "\n",
       "    .dataframe tbody tr th {\n",
       "        vertical-align: top;\n",
       "    }\n",
       "\n",
       "    .dataframe thead th {\n",
       "        text-align: right;\n",
       "    }\n",
       "</style>\n",
       "<table border=\"1\" class=\"dataframe\">\n",
       "  <thead>\n",
       "    <tr style=\"text-align: right;\">\n",
       "      <th></th>\n",
       "      <th>batting_team</th>\n",
       "      <th>bowling_team</th>\n",
       "    </tr>\n",
       "  </thead>\n",
       "  <tbody>\n",
       "    <tr>\n",
       "      <th>30510</th>\n",
       "      <td>Deccan Chargers</td>\n",
       "      <td>Chennai Super Kings</td>\n",
       "    </tr>\n",
       "    <tr>\n",
       "      <th>42590</th>\n",
       "      <td>Royal Challengers Bangalore</td>\n",
       "      <td>Kings XI Punjab</td>\n",
       "    </tr>\n",
       "    <tr>\n",
       "      <th>47878</th>\n",
       "      <td>Delhi Daredevils</td>\n",
       "      <td>Rajasthan Royals</td>\n",
       "    </tr>\n",
       "    <tr>\n",
       "      <th>54477</th>\n",
       "      <td>Kolkata Knight Riders</td>\n",
       "      <td>Mumbai Indians</td>\n",
       "    </tr>\n",
       "    <tr>\n",
       "      <th>134929</th>\n",
       "      <td>Kolkata Knight Riders</td>\n",
       "      <td>Rajasthan Royals</td>\n",
       "    </tr>\n",
       "    <tr>\n",
       "      <th>142424</th>\n",
       "      <td>Kolkata Knight Riders</td>\n",
       "      <td>Delhi Daredevils</td>\n",
       "    </tr>\n",
       "  </tbody>\n",
       "</table>\n",
       "</div>"
      ],
      "text/plain": [
       "                       batting_team         bowling_team\n",
       "30510               Deccan Chargers  Chennai Super Kings\n",
       "42590   Royal Challengers Bangalore      Kings XI Punjab\n",
       "47878              Delhi Daredevils     Rajasthan Royals\n",
       "54477         Kolkata Knight Riders       Mumbai Indians\n",
       "134929        Kolkata Knight Riders     Rajasthan Royals\n",
       "142424        Kolkata Knight Riders     Delhi Daredevils"
      ]
     },
     "execution_count": 27,
     "metadata": {},
     "output_type": "execute_result"
    }
   ],
   "source": [
    "#teams that have more number of no_ball runs\n",
    "d_data[d_data[\"noball_runs\"]==5][[\"batting_team\",\"bowling_team\"]]"
   ]
  },
  {
   "cell_type": "code",
   "execution_count": 28,
   "metadata": {},
   "outputs": [
    {
     "data": {
      "text/plain": [
       "0    179076\n",
       "5         2\n",
       "Name: penalty_runs, dtype: int64"
      ]
     },
     "execution_count": 28,
     "metadata": {},
     "output_type": "execute_result"
    }
   ],
   "source": [
    "d_data[\"penalty_runs\"].value_counts()"
   ]
  },
  {
   "cell_type": "code",
   "execution_count": 29,
   "metadata": {},
   "outputs": [
    {
     "data": {
      "text/html": [
       "<div>\n",
       "<style scoped>\n",
       "    .dataframe tbody tr th:only-of-type {\n",
       "        vertical-align: middle;\n",
       "    }\n",
       "\n",
       "    .dataframe tbody tr th {\n",
       "        vertical-align: top;\n",
       "    }\n",
       "\n",
       "    .dataframe thead th {\n",
       "        text-align: right;\n",
       "    }\n",
       "</style>\n",
       "<table border=\"1\" class=\"dataframe\">\n",
       "  <thead>\n",
       "    <tr style=\"text-align: right;\">\n",
       "      <th></th>\n",
       "      <th>batting_team</th>\n",
       "      <th>bowling_team</th>\n",
       "    </tr>\n",
       "  </thead>\n",
       "  <tbody>\n",
       "    <tr>\n",
       "      <th>15476</th>\n",
       "      <td>Delhi Daredevils</td>\n",
       "      <td>Deccan Chargers</td>\n",
       "    </tr>\n",
       "    <tr>\n",
       "      <th>112093</th>\n",
       "      <td>Delhi Daredevils</td>\n",
       "      <td>Mumbai Indians</td>\n",
       "    </tr>\n",
       "  </tbody>\n",
       "</table>\n",
       "</div>"
      ],
      "text/plain": [
       "            batting_team     bowling_team\n",
       "15476   Delhi Daredevils  Deccan Chargers\n",
       "112093  Delhi Daredevils   Mumbai Indians"
      ]
     },
     "execution_count": 29,
     "metadata": {},
     "output_type": "execute_result"
    }
   ],
   "source": [
    "# teams that have more penalty runs\n",
    "d_data[d_data[\"penalty_runs\"]==5][[\"batting_team\",\"bowling_team\"]]"
   ]
  },
  {
   "cell_type": "code",
   "execution_count": 30,
   "metadata": {},
   "outputs": [
    {
     "data": {
      "text/plain": [
       "0    169541\n",
       "1      8495\n",
       "2       407\n",
       "4       348\n",
       "5       219\n",
       "3        67\n",
       "7         1\n",
       "Name: extra_runs, dtype: int64"
      ]
     },
     "execution_count": 30,
     "metadata": {},
     "output_type": "execute_result"
    }
   ],
   "source": [
    "d_data[\"extra_runs\"].value_counts()"
   ]
  },
  {
   "cell_type": "code",
   "execution_count": 31,
   "metadata": {},
   "outputs": [
    {
     "data": {
      "text/html": [
       "<div>\n",
       "<style scoped>\n",
       "    .dataframe tbody tr th:only-of-type {\n",
       "        vertical-align: middle;\n",
       "    }\n",
       "\n",
       "    .dataframe tbody tr th {\n",
       "        vertical-align: top;\n",
       "    }\n",
       "\n",
       "    .dataframe thead th {\n",
       "        text-align: right;\n",
       "    }\n",
       "</style>\n",
       "<table border=\"1\" class=\"dataframe\">\n",
       "  <thead>\n",
       "    <tr style=\"text-align: right;\">\n",
       "      <th></th>\n",
       "      <th>batting_team</th>\n",
       "      <th>bowling_team</th>\n",
       "    </tr>\n",
       "  </thead>\n",
       "  <tbody>\n",
       "    <tr>\n",
       "      <th>686</th>\n",
       "      <td>Kolkata Knight Riders</td>\n",
       "      <td>Gujarat Lions</td>\n",
       "    </tr>\n",
       "    <tr>\n",
       "      <th>2383</th>\n",
       "      <td>Kings XI Punjab</td>\n",
       "      <td>Kolkata Knight Riders</td>\n",
       "    </tr>\n",
       "    <tr>\n",
       "      <th>2506</th>\n",
       "      <td>Kolkata Knight Riders</td>\n",
       "      <td>Kings XI Punjab</td>\n",
       "    </tr>\n",
       "    <tr>\n",
       "      <th>3121</th>\n",
       "      <td>Kolkata Knight Riders</td>\n",
       "      <td>Sunrisers Hyderabad</td>\n",
       "    </tr>\n",
       "    <tr>\n",
       "      <th>3650</th>\n",
       "      <td>Gujarat Lions</td>\n",
       "      <td>Mumbai Indians</td>\n",
       "    </tr>\n",
       "    <tr>\n",
       "      <th>...</th>\n",
       "      <td>...</td>\n",
       "      <td>...</td>\n",
       "    </tr>\n",
       "    <tr>\n",
       "      <th>170531</th>\n",
       "      <td>Mumbai Indians</td>\n",
       "      <td>Kings XI Punjab</td>\n",
       "    </tr>\n",
       "    <tr>\n",
       "      <th>170594</th>\n",
       "      <td>Rajasthan Royals</td>\n",
       "      <td>Chennai Super Kings</td>\n",
       "    </tr>\n",
       "    <tr>\n",
       "      <th>173186</th>\n",
       "      <td>Kolkata Knight Riders</td>\n",
       "      <td>Royal Challengers Bangalore</td>\n",
       "    </tr>\n",
       "    <tr>\n",
       "      <th>176176</th>\n",
       "      <td>Sunrisers Hyderabad</td>\n",
       "      <td>Kings XI Punjab</td>\n",
       "    </tr>\n",
       "    <tr>\n",
       "      <th>178757</th>\n",
       "      <td>Chennai Super Kings</td>\n",
       "      <td>Delhi Capitals</td>\n",
       "    </tr>\n",
       "  </tbody>\n",
       "</table>\n",
       "<p>219 rows × 2 columns</p>\n",
       "</div>"
      ],
      "text/plain": [
       "                 batting_team                 bowling_team\n",
       "686     Kolkata Knight Riders                Gujarat Lions\n",
       "2383          Kings XI Punjab        Kolkata Knight Riders\n",
       "2506    Kolkata Knight Riders              Kings XI Punjab\n",
       "3121    Kolkata Knight Riders          Sunrisers Hyderabad\n",
       "3650            Gujarat Lions               Mumbai Indians\n",
       "...                       ...                          ...\n",
       "170531         Mumbai Indians              Kings XI Punjab\n",
       "170594       Rajasthan Royals          Chennai Super Kings\n",
       "173186  Kolkata Knight Riders  Royal Challengers Bangalore\n",
       "176176    Sunrisers Hyderabad              Kings XI Punjab\n",
       "178757    Chennai Super Kings               Delhi Capitals\n",
       "\n",
       "[219 rows x 2 columns]"
      ]
     },
     "execution_count": 31,
     "metadata": {},
     "output_type": "execute_result"
    }
   ],
   "source": [
    "#teams having more extra runs\n",
    "d_data[d_data[\"extra_runs\"]==5][[\"batting_team\",\"bowling_team\"]]"
   ]
  },
  {
   "cell_type": "code",
   "execution_count": 32,
   "metadata": {},
   "outputs": [
    {
     "data": {
      "text/html": [
       "<div>\n",
       "<style scoped>\n",
       "    .dataframe tbody tr th:only-of-type {\n",
       "        vertical-align: middle;\n",
       "    }\n",
       "\n",
       "    .dataframe tbody tr th {\n",
       "        vertical-align: top;\n",
       "    }\n",
       "\n",
       "    .dataframe thead th {\n",
       "        text-align: right;\n",
       "    }\n",
       "</style>\n",
       "<table border=\"1\" class=\"dataframe\">\n",
       "  <thead>\n",
       "    <tr style=\"text-align: right;\">\n",
       "      <th></th>\n",
       "      <th>batting_team</th>\n",
       "      <th>bowling_team</th>\n",
       "    </tr>\n",
       "  </thead>\n",
       "  <tbody>\n",
       "    <tr>\n",
       "      <th>112093</th>\n",
       "      <td>Delhi Daredevils</td>\n",
       "      <td>Mumbai Indians</td>\n",
       "    </tr>\n",
       "  </tbody>\n",
       "</table>\n",
       "</div>"
      ],
      "text/plain": [
       "            batting_team    bowling_team\n",
       "112093  Delhi Daredevils  Mumbai Indians"
      ]
     },
     "execution_count": 32,
     "metadata": {},
     "output_type": "execute_result"
    }
   ],
   "source": [
    "d_data[d_data[\"extra_runs\"]==7][[\"batting_team\",\"bowling_team\"]]"
   ]
  },
  {
   "cell_type": "code",
   "execution_count": 33,
   "metadata": {},
   "outputs": [
    {
     "data": {
      "text/plain": [
       "0    176141\n",
       "1      2558\n",
       "4       220\n",
       "2       138\n",
       "3        17\n",
       "5         4\n",
       "Name: legbye_runs, dtype: int64"
      ]
     },
     "execution_count": 33,
     "metadata": {},
     "output_type": "execute_result"
    }
   ],
   "source": [
    "d_data[\"legbye_runs\"].value_counts()"
   ]
  },
  {
   "cell_type": "code",
   "execution_count": 34,
   "metadata": {},
   "outputs": [
    {
     "data": {
      "text/html": [
       "<div>\n",
       "<style scoped>\n",
       "    .dataframe tbody tr th:only-of-type {\n",
       "        vertical-align: middle;\n",
       "    }\n",
       "\n",
       "    .dataframe tbody tr th {\n",
       "        vertical-align: top;\n",
       "    }\n",
       "\n",
       "    .dataframe thead th {\n",
       "        text-align: right;\n",
       "    }\n",
       "</style>\n",
       "<table border=\"1\" class=\"dataframe\">\n",
       "  <thead>\n",
       "    <tr style=\"text-align: right;\">\n",
       "      <th></th>\n",
       "      <th>batting_team</th>\n",
       "      <th>bowling_team</th>\n",
       "    </tr>\n",
       "  </thead>\n",
       "  <tbody>\n",
       "    <tr>\n",
       "      <th>2506</th>\n",
       "      <td>Kolkata Knight Riders</td>\n",
       "      <td>Kings XI Punjab</td>\n",
       "    </tr>\n",
       "    <tr>\n",
       "      <th>72245</th>\n",
       "      <td>Chennai Super Kings</td>\n",
       "      <td>Royal Challengers Bangalore</td>\n",
       "    </tr>\n",
       "    <tr>\n",
       "      <th>123465</th>\n",
       "      <td>Chennai Super Kings</td>\n",
       "      <td>Sunrisers Hyderabad</td>\n",
       "    </tr>\n",
       "    <tr>\n",
       "      <th>132046</th>\n",
       "      <td>Kings XI Punjab</td>\n",
       "      <td>Royal Challengers Bangalore</td>\n",
       "    </tr>\n",
       "  </tbody>\n",
       "</table>\n",
       "</div>"
      ],
      "text/plain": [
       "                 batting_team                 bowling_team\n",
       "2506    Kolkata Knight Riders              Kings XI Punjab\n",
       "72245     Chennai Super Kings  Royal Challengers Bangalore\n",
       "123465    Chennai Super Kings          Sunrisers Hyderabad\n",
       "132046        Kings XI Punjab  Royal Challengers Bangalore"
      ]
     },
     "execution_count": 34,
     "metadata": {},
     "output_type": "execute_result"
    }
   ],
   "source": [
    "# teams with more number of legbye runs\n",
    "d_data[d_data[\"legbye_runs\"]==5][[\"batting_team\",\"bowling_team\"]]"
   ]
  },
  {
   "cell_type": "code",
   "execution_count": 35,
   "metadata": {},
   "outputs": [
    {
     "data": {
      "text/plain": [
       "1     73059\n",
       "0     63002\n",
       "4     20599\n",
       "2     13125\n",
       "6      8148\n",
       "3       688\n",
       "5       339\n",
       "8        64\n",
       "7        38\n",
       "10       16\n",
       "Name: total_runs, dtype: int64"
      ]
     },
     "execution_count": 35,
     "metadata": {},
     "output_type": "execute_result"
    }
   ],
   "source": [
    "d_data[\"total_runs\"].value_counts()"
   ]
  },
  {
   "cell_type": "code",
   "execution_count": 36,
   "metadata": {},
   "outputs": [
    {
     "data": {
      "text/html": [
       "<div>\n",
       "<style scoped>\n",
       "    .dataframe tbody tr th:only-of-type {\n",
       "        vertical-align: middle;\n",
       "    }\n",
       "\n",
       "    .dataframe tbody tr th {\n",
       "        vertical-align: top;\n",
       "    }\n",
       "\n",
       "    .dataframe thead th {\n",
       "        text-align: right;\n",
       "    }\n",
       "</style>\n",
       "<table border=\"1\" class=\"dataframe\">\n",
       "  <thead>\n",
       "    <tr style=\"text-align: right;\">\n",
       "      <th></th>\n",
       "      <th>batting_team</th>\n",
       "      <th>bowling_team</th>\n",
       "    </tr>\n",
       "  </thead>\n",
       "  <tbody>\n",
       "    <tr>\n",
       "      <th>150968</th>\n",
       "      <td>Royal Challengers Bangalore</td>\n",
       "      <td>Kolkata Knight Riders</td>\n",
       "    </tr>\n",
       "    <tr>\n",
       "      <th>153511</th>\n",
       "      <td>Mumbai Indians</td>\n",
       "      <td>Royal Challengers Bangalore</td>\n",
       "    </tr>\n",
       "    <tr>\n",
       "      <th>153518</th>\n",
       "      <td>Mumbai Indians</td>\n",
       "      <td>Royal Challengers Bangalore</td>\n",
       "    </tr>\n",
       "    <tr>\n",
       "      <th>155660</th>\n",
       "      <td>Sunrisers Hyderabad</td>\n",
       "      <td>Mumbai Indians</td>\n",
       "    </tr>\n",
       "    <tr>\n",
       "      <th>157768</th>\n",
       "      <td>Mumbai Indians</td>\n",
       "      <td>Royal Challengers Bangalore</td>\n",
       "    </tr>\n",
       "    <tr>\n",
       "      <th>157812</th>\n",
       "      <td>Mumbai Indians</td>\n",
       "      <td>Royal Challengers Bangalore</td>\n",
       "    </tr>\n",
       "    <tr>\n",
       "      <th>158215</th>\n",
       "      <td>Kolkata Knight Riders</td>\n",
       "      <td>Chennai Super Kings</td>\n",
       "    </tr>\n",
       "    <tr>\n",
       "      <th>161560</th>\n",
       "      <td>Rajasthan Royals</td>\n",
       "      <td>Mumbai Indians</td>\n",
       "    </tr>\n",
       "    <tr>\n",
       "      <th>167734</th>\n",
       "      <td>Kings XI Punjab</td>\n",
       "      <td>Delhi Capitals</td>\n",
       "    </tr>\n",
       "    <tr>\n",
       "      <th>168799</th>\n",
       "      <td>Kolkata Knight Riders</td>\n",
       "      <td>Royal Challengers Bangalore</td>\n",
       "    </tr>\n",
       "    <tr>\n",
       "      <th>170331</th>\n",
       "      <td>Chennai Super Kings</td>\n",
       "      <td>Kolkata Knight Riders</td>\n",
       "    </tr>\n",
       "    <tr>\n",
       "      <th>170531</th>\n",
       "      <td>Mumbai Indians</td>\n",
       "      <td>Kings XI Punjab</td>\n",
       "    </tr>\n",
       "    <tr>\n",
       "      <th>170594</th>\n",
       "      <td>Rajasthan Royals</td>\n",
       "      <td>Chennai Super Kings</td>\n",
       "    </tr>\n",
       "    <tr>\n",
       "      <th>173186</th>\n",
       "      <td>Kolkata Knight Riders</td>\n",
       "      <td>Royal Challengers Bangalore</td>\n",
       "    </tr>\n",
       "    <tr>\n",
       "      <th>176176</th>\n",
       "      <td>Sunrisers Hyderabad</td>\n",
       "      <td>Kings XI Punjab</td>\n",
       "    </tr>\n",
       "    <tr>\n",
       "      <th>178757</th>\n",
       "      <td>Chennai Super Kings</td>\n",
       "      <td>Delhi Capitals</td>\n",
       "    </tr>\n",
       "  </tbody>\n",
       "</table>\n",
       "</div>"
      ],
      "text/plain": [
       "                       batting_team                 bowling_team\n",
       "150968  Royal Challengers Bangalore        Kolkata Knight Riders\n",
       "153511               Mumbai Indians  Royal Challengers Bangalore\n",
       "153518               Mumbai Indians  Royal Challengers Bangalore\n",
       "155660          Sunrisers Hyderabad               Mumbai Indians\n",
       "157768               Mumbai Indians  Royal Challengers Bangalore\n",
       "157812               Mumbai Indians  Royal Challengers Bangalore\n",
       "158215        Kolkata Knight Riders          Chennai Super Kings\n",
       "161560             Rajasthan Royals               Mumbai Indians\n",
       "167734              Kings XI Punjab               Delhi Capitals\n",
       "168799        Kolkata Knight Riders  Royal Challengers Bangalore\n",
       "170331          Chennai Super Kings        Kolkata Knight Riders\n",
       "170531               Mumbai Indians              Kings XI Punjab\n",
       "170594             Rajasthan Royals          Chennai Super Kings\n",
       "173186        Kolkata Knight Riders  Royal Challengers Bangalore\n",
       "176176          Sunrisers Hyderabad              Kings XI Punjab\n",
       "178757          Chennai Super Kings               Delhi Capitals"
      ]
     },
     "execution_count": 36,
     "metadata": {},
     "output_type": "execute_result"
    }
   ],
   "source": [
    "#teams with highest number of runs\n",
    "d_data[d_data[\"total_runs\"]==10][[\"batting_team\",\"bowling_team\"]]"
   ]
  },
  {
   "cell_type": "code",
   "execution_count": 37,
   "metadata": {},
   "outputs": [
    {
     "data": {
      "text/plain": [
       "SK Raina      162\n",
       "RG Sharma     155\n",
       "RV Uthappa    153\n",
       "V Kohli       143\n",
       "S Dhawan      137\n",
       "             ... \n",
       "P Krishna       1\n",
       "GR Napier       1\n",
       "R Ninan         1\n",
       "J Searles       1\n",
       "FH Edwards      1\n",
       "Name: player_dismissed, Length: 487, dtype: int64"
      ]
     },
     "execution_count": 37,
     "metadata": {},
     "output_type": "execute_result"
    }
   ],
   "source": [
    "d_data[\"player_dismissed\"].value_counts()"
   ]
  },
  {
   "cell_type": "code",
   "execution_count": 38,
   "metadata": {},
   "outputs": [
    {
     "data": {
      "text/plain": [
       "caught                   5348\n",
       "bowled                   1581\n",
       "run out                   852\n",
       "lbw                       540\n",
       "stumped                   278\n",
       "caught and bowled         211\n",
       "retired hurt               12\n",
       "hit wicket                 10\n",
       "obstructing the field       2\n",
       "Name: dismissal_kind, dtype: int64"
      ]
     },
     "execution_count": 38,
     "metadata": {},
     "output_type": "execute_result"
    }
   ],
   "source": [
    "d_data[\"dismissal_kind\"].value_counts()"
   ]
  },
  {
   "cell_type": "code",
   "execution_count": 39,
   "metadata": {},
   "outputs": [
    {
     "data": {
      "text/plain": [
       "MS Dhoni           159\n",
       "KD Karthik         152\n",
       "RV Uthappa         125\n",
       "SK Raina           115\n",
       "AB de Villiers     114\n",
       "                  ... \n",
       "R Bishnoi            1\n",
       "S Dube               1\n",
       "Shivam Sharma        1\n",
       "UBT Chand (sub)      1\n",
       "TS Mills             1\n",
       "Name: fielder, Length: 499, dtype: int64"
      ]
     },
     "execution_count": 39,
     "metadata": {},
     "output_type": "execute_result"
    }
   ],
   "source": [
    "d_data[\"fielder\"].value_counts()"
   ]
  },
  {
   "cell_type": "code",
   "execution_count": 40,
   "metadata": {},
   "outputs": [
    {
     "data": {
      "text/plain": [
       "over  batsman      \n",
       "1     CH Gayle         394\n",
       "      DA Warner        381\n",
       "      AM Rahane        377\n",
       "      PA Patel         367\n",
       "      S Dhawan         347\n",
       "                      ... \n",
       "20    Swapnil Singh      1\n",
       "      T Kohli            1\n",
       "      U Kaul             1\n",
       "      VS Malik           1\n",
       "      YA Abdulla         1\n",
       "Name: batsman, Length: 5721, dtype: int64"
      ]
     },
     "execution_count": 40,
     "metadata": {},
     "output_type": "execute_result"
    }
   ],
   "source": [
    "a=d_data.groupby(\"over\")\n",
    "a[\"batsman\"].value_counts()"
   ]
  },
  {
   "cell_type": "code",
   "execution_count": 41,
   "metadata": {},
   "outputs": [
    {
     "data": {
      "text/plain": [
       "ball  batsman        \n",
       "1     V Kohli            786\n",
       "      S Dhawan           664\n",
       "      SK Raina           663\n",
       "      RG Sharma          654\n",
       "      AM Rahane          637\n",
       "                        ... \n",
       "9     Sachin Baby          1\n",
       "      TM Dilshan           1\n",
       "      Y Venugopal Rao      1\n",
       "      YK Pathan            1\n",
       "      YV Takawale          1\n",
       "Name: batsman, Length: 3505, dtype: int64"
      ]
     },
     "execution_count": 41,
     "metadata": {},
     "output_type": "execute_result"
    }
   ],
   "source": [
    "b=d_data.groupby(\"ball\")\n",
    "b[\"batsman\"].value_counts()"
   ]
  },
  {
   "cell_type": "code",
   "execution_count": 42,
   "metadata": {},
   "outputs": [
    {
     "data": {
      "application/javascript": [
       "\n",
       "        if (window._pyforest_update_imports_cell) { window._pyforest_update_imports_cell('import seaborn as sns\\nimport pandas as pd'); }\n",
       "    "
      ],
      "text/plain": [
       "<IPython.core.display.Javascript object>"
      ]
     },
     "metadata": {},
     "output_type": "display_data"
    },
    {
     "data": {
      "text/plain": [
       "<matplotlib.axes._subplots.AxesSubplot at 0x20131934d30>"
      ]
     },
     "execution_count": 42,
     "metadata": {},
     "output_type": "execute_result"
    },
    {
     "data": {
      "image/png": "[encoded data removed]",
      "text/plain": [
       "<Figure size 432x288 with 1 Axes>"
      ]
     },
     "metadata": {
      "needs_background": "light"
     },
     "output_type": "display_data"
    }
   ],
   "source": [
    "sns.heatmap(d_data.isnull(),yticklabels=False,cbar=False,cmap=\"Blues\")"
   ]
  },
  {
   "cell_type": "code",
   "execution_count": 43,
   "metadata": {},
   "outputs": [
    {
     "data": {
      "text/plain": [
       "match_id                 0\n",
       "inning                   0\n",
       "batting_team             0\n",
       "bowling_team             0\n",
       "over                     0\n",
       "ball                     0\n",
       "batsman                  0\n",
       "non_striker              0\n",
       "bowler                   0\n",
       "is_super_over            0\n",
       "wide_runs                0\n",
       "bye_runs                 0\n",
       "legbye_runs              0\n",
       "noball_runs              0\n",
       "penalty_runs             0\n",
       "batsman_runs             0\n",
       "extra_runs               0\n",
       "total_runs               0\n",
       "player_dismissed    170244\n",
       "dismissal_kind      170244\n",
       "fielder             172630\n",
       "dtype: int64"
      ]
     },
     "execution_count": 43,
     "metadata": {},
     "output_type": "execute_result"
    }
   ],
   "source": [
    "#number of null values in data\n",
    "d_data.isnull().sum()"
   ]
  },
  {
   "cell_type": "code",
   "execution_count": 44,
   "metadata": {},
   "outputs": [],
   "source": [
    "#dropping the columns which have more number of null values and not were in use\n",
    "d_data=d_data.drop([\"player_dismissed\",\"dismissal_kind\",\"fielder\"],axis=1)"
   ]
  },
  {
   "cell_type": "code",
   "execution_count": 45,
   "metadata": {},
   "outputs": [
    {
     "data": {
      "text/plain": [
       "match_id         0\n",
       "inning           0\n",
       "batting_team     0\n",
       "bowling_team     0\n",
       "over             0\n",
       "ball             0\n",
       "batsman          0\n",
       "non_striker      0\n",
       "bowler           0\n",
       "is_super_over    0\n",
       "wide_runs        0\n",
       "bye_runs         0\n",
       "legbye_runs      0\n",
       "noball_runs      0\n",
       "penalty_runs     0\n",
       "batsman_runs     0\n",
       "extra_runs       0\n",
       "total_runs       0\n",
       "dtype: int64"
      ]
     },
     "execution_count": 45,
     "metadata": {},
     "output_type": "execute_result"
    }
   ],
   "source": [
    "#data which is free from null values \n",
    "d_data.isnull().sum()"
   ]
  },
  {
   "cell_type": "code",
   "execution_count": 46,
   "metadata": {},
   "outputs": [],
   "source": [
    "#\"Rising Pune Supergiants\"team is repeated twice making it once\n",
    "d_data[\"batting_team\"].replace(\"Rising Pune Supergiants\",\"Rising Pune Supergiant\",inplace=True)"
   ]
  },
  {
   "cell_type": "code",
   "execution_count": 47,
   "metadata": {},
   "outputs": [],
   "source": [
    "d_data[\"bowling_team\"].replace(\"Rising Pune Supergiants\",\"Rising Pune Supergiant\",inplace=True)"
   ]
  },
  {
   "cell_type": "code",
   "execution_count": 48,
   "metadata": {},
   "outputs": [
    {
     "data": {
      "application/javascript": [
       "\n",
       "        if (window._pyforest_update_imports_cell) { window._pyforest_update_imports_cell('import seaborn as sns\\nimport pandas as pd\\nimport numpy as np'); }\n",
       "    "
      ],
      "text/plain": [
       "<IPython.core.display.Javascript object>"
      ]
     },
     "metadata": {},
     "output_type": "display_data"
    },
    {
     "data": {
      "text/plain": [
       "array(['Chennai Super Kings', 'Deccan Chargers', 'Delhi Capitals',\n",
       "       'Delhi Daredevils', 'Gujarat Lions', 'Kings XI Punjab',\n",
       "       'Kochi Tuskers Kerala', 'Kolkata Knight Riders', 'Mumbai Indians',\n",
       "       'Pune Warriors', 'Rajasthan Royals', 'Rising Pune Supergiant',\n",
       "       'Royal Challengers Bangalore', 'Sunrisers Hyderabad'], dtype=object)"
      ]
     },
     "execution_count": 48,
     "metadata": {},
     "output_type": "execute_result"
    }
   ],
   "source": [
    "# list of all batting teams\n",
    "np.unique(d_data[\"batting_team\"])"
   ]
  },
  {
   "cell_type": "code",
   "execution_count": 49,
   "metadata": {},
   "outputs": [
    {
     "data": {
      "application/javascript": [
       "\n",
       "        if (window._pyforest_update_imports_cell) { window._pyforest_update_imports_cell('import seaborn as sns\\nimport pandas as pd\\nimport numpy as np'); }\n",
       "    "
      ],
      "text/plain": [
       "<IPython.core.display.Javascript object>"
      ]
     },
     "metadata": {},
     "output_type": "display_data"
    },
    {
     "data": {
      "text/plain": [
       "array(['Chennai Super Kings', 'Deccan Chargers', 'Delhi Capitals',\n",
       "       'Delhi Daredevils', 'Gujarat Lions', 'Kings XI Punjab',\n",
       "       'Kochi Tuskers Kerala', 'Kolkata Knight Riders', 'Mumbai Indians',\n",
       "       'Pune Warriors', 'Rajasthan Royals', 'Rising Pune Supergiant',\n",
       "       'Royal Challengers Bangalore', 'Sunrisers Hyderabad'], dtype=object)"
      ]
     },
     "execution_count": 49,
     "metadata": {},
     "output_type": "execute_result"
    }
   ],
   "source": [
    "#list of all bowling teams\n",
    "np.unique(d_data[\"bowling_team\"])"
   ]
  },
  {
   "cell_type": "markdown",
   "metadata": {},
   "source": [
    "# Loading IPL Matches data"
   ]
  },
  {
   "cell_type": "code",
   "execution_count": 50,
   "metadata": {},
   "outputs": [
    {
     "data": {
      "application/javascript": [
       "\n",
       "        if (window._pyforest_update_imports_cell) { window._pyforest_update_imports_cell('import seaborn as sns\\nimport pandas as pd\\nimport numpy as np'); }\n",
       "    "
      ],
      "text/plain": [
       "<IPython.core.display.Javascript object>"
      ]
     },
     "metadata": {},
     "output_type": "display_data"
    },
    {
     "data": {
      "text/html": [
       "<div>\n",
       "<style scoped>\n",
       "    .dataframe tbody tr th:only-of-type {\n",
       "        vertical-align: middle;\n",
       "    }\n",
       "\n",
       "    .dataframe tbody tr th {\n",
       "        vertical-align: top;\n",
       "    }\n",
       "\n",
       "    .dataframe thead th {\n",
       "        text-align: right;\n",
       "    }\n",
       "</style>\n",
       "<table border=\"1\" class=\"dataframe\">\n",
       "  <thead>\n",
       "    <tr style=\"text-align: right;\">\n",
       "      <th></th>\n",
       "      <th>id</th>\n",
       "      <th>season</th>\n",
       "      <th>city</th>\n",
       "      <th>date</th>\n",
       "      <th>team1</th>\n",
       "      <th>team2</th>\n",
       "      <th>toss_winner</th>\n",
       "      <th>toss_decision</th>\n",
       "      <th>result</th>\n",
       "      <th>dl_applied</th>\n",
       "      <th>winner</th>\n",
       "      <th>win_by_runs</th>\n",
       "      <th>win_by_wickets</th>\n",
       "      <th>player_of_match</th>\n",
       "      <th>venue</th>\n",
       "      <th>umpire1</th>\n",
       "      <th>umpire2</th>\n",
       "      <th>umpire3</th>\n",
       "    </tr>\n",
       "  </thead>\n",
       "  <tbody>\n",
       "    <tr>\n",
       "      <th>0</th>\n",
       "      <td>1</td>\n",
       "      <td>2017</td>\n",
       "      <td>Hyderabad</td>\n",
       "      <td>2017-04-05</td>\n",
       "      <td>Sunrisers Hyderabad</td>\n",
       "      <td>Royal Challengers Bangalore</td>\n",
       "      <td>Royal Challengers Bangalore</td>\n",
       "      <td>field</td>\n",
       "      <td>normal</td>\n",
       "      <td>0</td>\n",
       "      <td>Sunrisers Hyderabad</td>\n",
       "      <td>35</td>\n",
       "      <td>0</td>\n",
       "      <td>Yuvraj Singh</td>\n",
       "      <td>Rajiv Gandhi International Stadium, Uppal</td>\n",
       "      <td>AY Dandekar</td>\n",
       "      <td>NJ Llong</td>\n",
       "      <td>NaN</td>\n",
       "    </tr>\n",
       "    <tr>\n",
       "      <th>1</th>\n",
       "      <td>2</td>\n",
       "      <td>2017</td>\n",
       "      <td>Pune</td>\n",
       "      <td>2017-04-06</td>\n",
       "      <td>Mumbai Indians</td>\n",
       "      <td>Rising Pune Supergiant</td>\n",
       "      <td>Rising Pune Supergiant</td>\n",
       "      <td>field</td>\n",
       "      <td>normal</td>\n",
       "      <td>0</td>\n",
       "      <td>Rising Pune Supergiant</td>\n",
       "      <td>0</td>\n",
       "      <td>7</td>\n",
       "      <td>SPD Smith</td>\n",
       "      <td>Maharashtra Cricket Association Stadium</td>\n",
       "      <td>A Nand Kishore</td>\n",
       "      <td>S Ravi</td>\n",
       "      <td>NaN</td>\n",
       "    </tr>\n",
       "    <tr>\n",
       "      <th>2</th>\n",
       "      <td>3</td>\n",
       "      <td>2017</td>\n",
       "      <td>Rajkot</td>\n",
       "      <td>2017-04-07</td>\n",
       "      <td>Gujarat Lions</td>\n",
       "      <td>Kolkata Knight Riders</td>\n",
       "      <td>Kolkata Knight Riders</td>\n",
       "      <td>field</td>\n",
       "      <td>normal</td>\n",
       "      <td>0</td>\n",
       "      <td>Kolkata Knight Riders</td>\n",
       "      <td>0</td>\n",
       "      <td>10</td>\n",
       "      <td>CA Lynn</td>\n",
       "      <td>Saurashtra Cricket Association Stadium</td>\n",
       "      <td>Nitin Menon</td>\n",
       "      <td>CK Nandan</td>\n",
       "      <td>NaN</td>\n",
       "    </tr>\n",
       "  </tbody>\n",
       "</table>\n",
       "</div>"
      ],
      "text/plain": [
       "   id  season       city        date                team1  \\\n",
       "0   1    2017  Hyderabad  2017-04-05  Sunrisers Hyderabad   \n",
       "1   2    2017       Pune  2017-04-06       Mumbai Indians   \n",
       "2   3    2017     Rajkot  2017-04-07        Gujarat Lions   \n",
       "\n",
       "                         team2                  toss_winner toss_decision  \\\n",
       "0  Royal Challengers Bangalore  Royal Challengers Bangalore         field   \n",
       "1       Rising Pune Supergiant       Rising Pune Supergiant         field   \n",
       "2        Kolkata Knight Riders        Kolkata Knight Riders         field   \n",
       "\n",
       "   result  dl_applied                  winner  win_by_runs  win_by_wickets  \\\n",
       "0  normal           0     Sunrisers Hyderabad           35               0   \n",
       "1  normal           0  Rising Pune Supergiant            0               7   \n",
       "2  normal           0   Kolkata Knight Riders            0              10   \n",
       "\n",
       "  player_of_match                                      venue         umpire1  \\\n",
       "0    Yuvraj Singh  Rajiv Gandhi International Stadium, Uppal     AY Dandekar   \n",
       "1       SPD Smith    Maharashtra Cricket Association Stadium  A Nand Kishore   \n",
       "2         CA Lynn     Saurashtra Cricket Association Stadium     Nitin Menon   \n",
       "\n",
       "     umpire2 umpire3  \n",
       "0   NJ Llong     NaN  \n",
       "1     S Ravi     NaN  \n",
       "2  CK Nandan     NaN  "
      ]
     },
     "execution_count": 50,
     "metadata": {},
     "output_type": "execute_result"
    }
   ],
   "source": [
    "m_data=pd.read_csv(\"c://Users/RENUKA SREENIVAS/Downloads/matches.csv\")\n",
    "m_data.head(3)"
   ]
  },
  {
   "cell_type": "code",
   "execution_count": 51,
   "metadata": {},
   "outputs": [
    {
     "data": {
      "text/html": [
       "<div>\n",
       "<style scoped>\n",
       "    .dataframe tbody tr th:only-of-type {\n",
       "        vertical-align: middle;\n",
       "    }\n",
       "\n",
       "    .dataframe tbody tr th {\n",
       "        vertical-align: top;\n",
       "    }\n",
       "\n",
       "    .dataframe thead th {\n",
       "        text-align: right;\n",
       "    }\n",
       "</style>\n",
       "<table border=\"1\" class=\"dataframe\">\n",
       "  <thead>\n",
       "    <tr style=\"text-align: right;\">\n",
       "      <th></th>\n",
       "      <th>id</th>\n",
       "      <th>season</th>\n",
       "      <th>city</th>\n",
       "      <th>date</th>\n",
       "      <th>team1</th>\n",
       "      <th>team2</th>\n",
       "      <th>toss_winner</th>\n",
       "      <th>toss_decision</th>\n",
       "      <th>result</th>\n",
       "      <th>dl_applied</th>\n",
       "      <th>winner</th>\n",
       "      <th>win_by_runs</th>\n",
       "      <th>win_by_wickets</th>\n",
       "      <th>player_of_match</th>\n",
       "      <th>venue</th>\n",
       "      <th>umpire1</th>\n",
       "      <th>umpire2</th>\n",
       "      <th>umpire3</th>\n",
       "    </tr>\n",
       "  </thead>\n",
       "  <tbody>\n",
       "    <tr>\n",
       "      <th>753</th>\n",
       "      <td>11413</td>\n",
       "      <td>2019</td>\n",
       "      <td>Visakhapatnam</td>\n",
       "      <td>08/05/19</td>\n",
       "      <td>Sunrisers Hyderabad</td>\n",
       "      <td>Delhi Capitals</td>\n",
       "      <td>Delhi Capitals</td>\n",
       "      <td>field</td>\n",
       "      <td>normal</td>\n",
       "      <td>0</td>\n",
       "      <td>Delhi Capitals</td>\n",
       "      <td>0</td>\n",
       "      <td>2</td>\n",
       "      <td>RR Pant</td>\n",
       "      <td>ACA-VDCA Stadium</td>\n",
       "      <td>NaN</td>\n",
       "      <td>NaN</td>\n",
       "      <td>NaN</td>\n",
       "    </tr>\n",
       "    <tr>\n",
       "      <th>754</th>\n",
       "      <td>11414</td>\n",
       "      <td>2019</td>\n",
       "      <td>Visakhapatnam</td>\n",
       "      <td>10/05/19</td>\n",
       "      <td>Delhi Capitals</td>\n",
       "      <td>Chennai Super Kings</td>\n",
       "      <td>Chennai Super Kings</td>\n",
       "      <td>field</td>\n",
       "      <td>normal</td>\n",
       "      <td>0</td>\n",
       "      <td>Chennai Super Kings</td>\n",
       "      <td>0</td>\n",
       "      <td>6</td>\n",
       "      <td>F du Plessis</td>\n",
       "      <td>ACA-VDCA Stadium</td>\n",
       "      <td>Sundaram Ravi</td>\n",
       "      <td>Bruce Oxenford</td>\n",
       "      <td>Chettithody Shamshuddin</td>\n",
       "    </tr>\n",
       "    <tr>\n",
       "      <th>755</th>\n",
       "      <td>11415</td>\n",
       "      <td>2019</td>\n",
       "      <td>Hyderabad</td>\n",
       "      <td>12/05/19</td>\n",
       "      <td>Mumbai Indians</td>\n",
       "      <td>Chennai Super Kings</td>\n",
       "      <td>Mumbai Indians</td>\n",
       "      <td>bat</td>\n",
       "      <td>normal</td>\n",
       "      <td>0</td>\n",
       "      <td>Mumbai Indians</td>\n",
       "      <td>1</td>\n",
       "      <td>0</td>\n",
       "      <td>JJ Bumrah</td>\n",
       "      <td>Rajiv Gandhi Intl. Cricket Stadium</td>\n",
       "      <td>Nitin Menon</td>\n",
       "      <td>Ian Gould</td>\n",
       "      <td>Nigel Llong</td>\n",
       "    </tr>\n",
       "  </tbody>\n",
       "</table>\n",
       "</div>"
      ],
      "text/plain": [
       "        id  season           city      date                team1  \\\n",
       "753  11413    2019  Visakhapatnam  08/05/19  Sunrisers Hyderabad   \n",
       "754  11414    2019  Visakhapatnam  10/05/19       Delhi Capitals   \n",
       "755  11415    2019      Hyderabad  12/05/19       Mumbai Indians   \n",
       "\n",
       "                   team2          toss_winner toss_decision  result  \\\n",
       "753       Delhi Capitals       Delhi Capitals         field  normal   \n",
       "754  Chennai Super Kings  Chennai Super Kings         field  normal   \n",
       "755  Chennai Super Kings       Mumbai Indians           bat  normal   \n",
       "\n",
       "     dl_applied               winner  win_by_runs  win_by_wickets  \\\n",
       "753           0       Delhi Capitals            0               2   \n",
       "754           0  Chennai Super Kings            0               6   \n",
       "755           0       Mumbai Indians            1               0   \n",
       "\n",
       "    player_of_match                               venue        umpire1  \\\n",
       "753         RR Pant                    ACA-VDCA Stadium            NaN   \n",
       "754    F du Plessis                    ACA-VDCA Stadium  Sundaram Ravi   \n",
       "755       JJ Bumrah  Rajiv Gandhi Intl. Cricket Stadium    Nitin Menon   \n",
       "\n",
       "            umpire2                  umpire3  \n",
       "753             NaN                      NaN  \n",
       "754  Bruce Oxenford  Chettithody Shamshuddin  \n",
       "755       Ian Gould              Nigel Llong  "
      ]
     },
     "execution_count": 51,
     "metadata": {},
     "output_type": "execute_result"
    }
   ],
   "source": [
    "m_data.tail(3)"
   ]
  },
  {
   "cell_type": "code",
   "execution_count": 52,
   "metadata": {},
   "outputs": [
    {
     "name": "stdout",
     "output_type": "stream",
     "text": [
      "<class 'pandas.core.frame.DataFrame'>\n",
      "RangeIndex: 756 entries, 0 to 755\n",
      "Data columns (total 18 columns):\n",
      " #   Column           Non-Null Count  Dtype \n",
      "---  ------           --------------  ----- \n",
      " 0   id               756 non-null    int64 \n",
      " 1   season           756 non-null    int64 \n",
      " 2   city             749 non-null    object\n",
      " 3   date             756 non-null    object\n",
      " 4   team1            756 non-null    object\n",
      " 5   team2            756 non-null    object\n",
      " 6   toss_winner      756 non-null    object\n",
      " 7   toss_decision    756 non-null    object\n",
      " 8   result           756 non-null    object\n",
      " 9   dl_applied       756 non-null    int64 \n",
      " 10  winner           752 non-null    object\n",
      " 11  win_by_runs      756 non-null    int64 \n",
      " 12  win_by_wickets   756 non-null    int64 \n",
      " 13  player_of_match  752 non-null    object\n",
      " 14  venue            756 non-null    object\n",
      " 15  umpire1          754 non-null    object\n",
      " 16  umpire2          754 non-null    object\n",
      " 17  umpire3          119 non-null    object\n",
      "dtypes: int64(5), object(13)\n",
      "memory usage: 106.4+ KB\n"
     ]
    }
   ],
   "source": [
    "m_data.info()"
   ]
  },
  {
   "cell_type": "code",
   "execution_count": 53,
   "metadata": {},
   "outputs": [
    {
     "data": {
      "application/javascript": [
       "\n",
       "        if (window._pyforest_update_imports_cell) { window._pyforest_update_imports_cell('import seaborn as sns\\nimport pandas as pd\\nimport numpy as np'); }\n",
       "    "
      ],
      "text/plain": [
       "<IPython.core.display.Javascript object>"
      ]
     },
     "metadata": {},
     "output_type": "display_data"
    },
    {
     "data": {
      "text/plain": [
       "array([2008, 2009, 2010, 2011, 2012, 2013, 2014, 2015, 2016, 2017, 2018,\n",
       "       2019], dtype=int64)"
      ]
     },
     "execution_count": 53,
     "metadata": {},
     "output_type": "execute_result"
    }
   ],
   "source": [
    "# list of all seasons in the dataset\n",
    "np.unique(m_data[\"season\"])"
   ]
  },
  {
   "cell_type": "code",
   "execution_count": 54,
   "metadata": {},
   "outputs": [
    {
     "data": {
      "application/javascript": [
       "\n",
       "        if (window._pyforest_update_imports_cell) { window._pyforest_update_imports_cell('import seaborn as sns\\nimport pandas as pd\\nimport numpy as np'); }\n",
       "    "
      ],
      "text/plain": [
       "<IPython.core.display.Javascript object>"
      ]
     },
     "metadata": {},
     "output_type": "display_data"
    },
    {
     "data": {
      "text/plain": [
       "<matplotlib.axes._subplots.AxesSubplot at 0x20134089a30>"
      ]
     },
     "execution_count": 54,
     "metadata": {},
     "output_type": "execute_result"
    },
    {
     "data": {
      "image/png": "[encoded data removed]",
      "text/plain": [
       "<Figure size 432x288 with 1 Axes>"
      ]
     },
     "metadata": {
      "needs_background": "light"
     },
     "output_type": "display_data"
    }
   ],
   "source": [
    "sns.heatmap(m_data.isnull(),yticklabels=False,cbar=False,cmap=\"Blues\")"
   ]
  },
  {
   "cell_type": "code",
   "execution_count": 55,
   "metadata": {},
   "outputs": [
    {
     "data": {
      "text/plain": [
       "id                   0\n",
       "season               0\n",
       "city                 7\n",
       "date                 0\n",
       "team1                0\n",
       "team2                0\n",
       "toss_winner          0\n",
       "toss_decision        0\n",
       "result               0\n",
       "dl_applied           0\n",
       "winner               4\n",
       "win_by_runs          0\n",
       "win_by_wickets       0\n",
       "player_of_match      4\n",
       "venue                0\n",
       "umpire1              2\n",
       "umpire2              2\n",
       "umpire3            637\n",
       "dtype: int64"
      ]
     },
     "execution_count": 55,
     "metadata": {},
     "output_type": "execute_result"
    }
   ],
   "source": [
    "m_data.isnull().sum()"
   ]
  },
  {
   "cell_type": "code",
   "execution_count": 56,
   "metadata": {},
   "outputs": [],
   "source": [
    "#this column contains more number of null values hence dropping the column\n",
    "m_data=m_data.drop(\"umpire3\",axis=1)"
   ]
  },
  {
   "cell_type": "code",
   "execution_count": 57,
   "metadata": {},
   "outputs": [],
   "source": [
    "m_data[\"winner\"].fillna(m_data[\"winner\"].mode()[0],inplace=True)"
   ]
  },
  {
   "cell_type": "code",
   "execution_count": 58,
   "metadata": {},
   "outputs": [],
   "source": [
    "m_data[\"city\"].fillna(m_data[\"city\"].mode()[0],inplace=True)"
   ]
  },
  {
   "cell_type": "code",
   "execution_count": 59,
   "metadata": {},
   "outputs": [],
   "source": [
    "m_data[\"player_of_match\"].fillna(m_data[\"player_of_match\"].mode()[0],inplace=True)"
   ]
  },
  {
   "cell_type": "code",
   "execution_count": 60,
   "metadata": {},
   "outputs": [
    {
     "data": {
      "text/plain": [
       "id                 0\n",
       "season             0\n",
       "city               0\n",
       "date               0\n",
       "team1              0\n",
       "team2              0\n",
       "toss_winner        0\n",
       "toss_decision      0\n",
       "result             0\n",
       "dl_applied         0\n",
       "winner             0\n",
       "win_by_runs        0\n",
       "win_by_wickets     0\n",
       "player_of_match    0\n",
       "venue              0\n",
       "umpire1            2\n",
       "umpire2            2\n",
       "dtype: int64"
      ]
     },
     "execution_count": 60,
     "metadata": {},
     "output_type": "execute_result"
    }
   ],
   "source": [
    "m_data.isnull().sum()"
   ]
  },
  {
   "cell_type": "code",
   "execution_count": 61,
   "metadata": {},
   "outputs": [],
   "source": [
    "m_data=m_data.drop([\"umpire1\",\"umpire2\"],axis=1)"
   ]
  },
  {
   "cell_type": "code",
   "execution_count": 62,
   "metadata": {},
   "outputs": [
    {
     "data": {
      "application/javascript": [
       "\n",
       "        if (window._pyforest_update_imports_cell) { window._pyforest_update_imports_cell('import seaborn as sns\\nimport pandas as pd\\nimport numpy as np'); }\n",
       "    "
      ],
      "text/plain": [
       "<IPython.core.display.Javascript object>"
      ]
     },
     "metadata": {},
     "output_type": "display_data"
    },
    {
     "data": {
      "text/plain": [
       "array(['Chennai Super Kings', 'Deccan Chargers', 'Delhi Capitals',\n",
       "       'Delhi Daredevils', 'Gujarat Lions', 'Kings XI Punjab',\n",
       "       'Kochi Tuskers Kerala', 'Kolkata Knight Riders', 'Mumbai Indians',\n",
       "       'Pune Warriors', 'Rajasthan Royals', 'Rising Pune Supergiant',\n",
       "       'Rising Pune Supergiants', 'Royal Challengers Bangalore',\n",
       "       'Sunrisers Hyderabad'], dtype=object)"
      ]
     },
     "execution_count": 62,
     "metadata": {},
     "output_type": "execute_result"
    }
   ],
   "source": [
    "np.unique(m_data[\"team1\"])"
   ]
  },
  {
   "cell_type": "code",
   "execution_count": 63,
   "metadata": {},
   "outputs": [
    {
     "data": {
      "application/javascript": [
       "\n",
       "        if (window._pyforest_update_imports_cell) { window._pyforest_update_imports_cell('import seaborn as sns\\nimport pandas as pd\\nimport numpy as np'); }\n",
       "    "
      ],
      "text/plain": [
       "<IPython.core.display.Javascript object>"
      ]
     },
     "metadata": {},
     "output_type": "display_data"
    },
    {
     "data": {
      "text/plain": [
       "array(['Chennai Super Kings', 'Deccan Chargers', 'Delhi Capitals',\n",
       "       'Delhi Daredevils', 'Gujarat Lions', 'Kings XI Punjab',\n",
       "       'Kochi Tuskers Kerala', 'Kolkata Knight Riders', 'Mumbai Indians',\n",
       "       'Pune Warriors', 'Rajasthan Royals', 'Rising Pune Supergiant',\n",
       "       'Rising Pune Supergiants', 'Royal Challengers Bangalore',\n",
       "       'Sunrisers Hyderabad'], dtype=object)"
      ]
     },
     "execution_count": 63,
     "metadata": {},
     "output_type": "execute_result"
    }
   ],
   "source": [
    "np.unique(m_data[\"team2\"])"
   ]
  },
  {
   "cell_type": "code",
   "execution_count": 64,
   "metadata": {},
   "outputs": [
    {
     "data": {
      "application/javascript": [
       "\n",
       "        if (window._pyforest_update_imports_cell) { window._pyforest_update_imports_cell('import seaborn as sns\\nimport pandas as pd\\nimport numpy as np'); }\n",
       "    "
      ],
      "text/plain": [
       "<IPython.core.display.Javascript object>"
      ]
     },
     "metadata": {},
     "output_type": "display_data"
    },
    {
     "data": {
      "text/plain": [
       "array(['Chennai Super Kings', 'Deccan Chargers', 'Delhi Capitals',\n",
       "       'Delhi Daredevils', 'Gujarat Lions', 'Kings XI Punjab',\n",
       "       'Kochi Tuskers Kerala', 'Kolkata Knight Riders', 'Mumbai Indians',\n",
       "       'Pune Warriors', 'Rajasthan Royals', 'Rising Pune Supergiant',\n",
       "       'Rising Pune Supergiants', 'Royal Challengers Bangalore',\n",
       "       'Sunrisers Hyderabad'], dtype=object)"
      ]
     },
     "execution_count": 64,
     "metadata": {},
     "output_type": "execute_result"
    }
   ],
   "source": [
    "np.unique(m_data[\"winner\"])"
   ]
  },
  {
   "cell_type": "code",
   "execution_count": 65,
   "metadata": {},
   "outputs": [],
   "source": [
    "m_data[\"team1\"].replace(\"Rising Pune Supergiants\",\"Rising Pune Supergiant\",inplace=True)"
   ]
  },
  {
   "cell_type": "code",
   "execution_count": 66,
   "metadata": {},
   "outputs": [],
   "source": [
    "m_data[\"team2\"].replace(\"Rising Pune Supergiants\",\"Rising Pune Supergiant\",inplace=True)"
   ]
  },
  {
   "cell_type": "code",
   "execution_count": 67,
   "metadata": {},
   "outputs": [],
   "source": [
    "m_data[\"winner\"].replace(\"Rising Pune Supergiants\",\"Rising Pune Supergiant\",inplace=True)"
   ]
  },
  {
   "cell_type": "code",
   "execution_count": 68,
   "metadata": {},
   "outputs": [
    {
     "data": {
      "application/javascript": [
       "\n",
       "        if (window._pyforest_update_imports_cell) { window._pyforest_update_imports_cell('import seaborn as sns\\nimport matplotlib.pyplot as plt\\nimport pandas as pd\\nimport numpy as np'); }\n",
       "    "
      ],
      "text/plain": [
       "<IPython.core.display.Javascript object>"
      ]
     },
     "metadata": {},
     "output_type": "display_data"
    },
    {
     "data": {
      "application/javascript": [
       "\n",
       "        if (window._pyforest_update_imports_cell) { window._pyforest_update_imports_cell('import seaborn as sns\\nimport matplotlib.pyplot as plt\\nimport pandas as pd\\nimport numpy as np'); }\n",
       "    "
      ],
      "text/plain": [
       "<IPython.core.display.Javascript object>"
      ]
     },
     "metadata": {},
     "output_type": "display_data"
    },
    {
     "data": {
      "text/plain": [
       "Text(0.5, 1.0, 'Total number of matches won by each team from 2008 to 2019')"
      ]
     },
     "execution_count": 68,
     "metadata": {},
     "output_type": "execute_result"
    },
    {
     "data": {
      "image/png": "[encoded data removed]",
      "text/plain": [
       "<Figure size 2160x720 with 1 Axes>"
      ]
     },
     "metadata": {
      "needs_background": "light"
     },
     "output_type": "display_data"
    }
   ],
   "source": [
    "plt.figure(figsize=(30,10))\n",
    "  \n",
    "c=sns.countplot(m_data[\"winner\"])\n",
    "c.axes.set_title(\"Total number of matches won by each team from 2008 to 2019\",fontsize=60)"
   ]
  },
  {
   "cell_type": "markdown",
   "metadata": {},
   "source": [
    "from the graph it is clear that Mumbai indians won more matches from 2008 to 2019. and least number of matches is won byKochi Tuskers Kerala."
   ]
  },
  {
   "cell_type": "code",
   "execution_count": 69,
   "metadata": {},
   "outputs": [
    {
     "data": {
      "text/plain": [
       "season\n",
       "2008       YK Pathan\n",
       "2009    Yuvraj Singh\n",
       "2010       YK Pathan\n",
       "2011    Yuvraj Singh\n",
       "2012       YK Pathan\n",
       "2013       YK Pathan\n",
       "2014    Yuvraj Singh\n",
       "2015          Z Khan\n",
       "2016       YK Pathan\n",
       "2017    Yuvraj Singh\n",
       "2018        UT Yadav\n",
       "2019        VR Aaron\n",
       "Name: player_of_match, dtype: object"
      ]
     },
     "execution_count": 69,
     "metadata": {},
     "output_type": "execute_result"
    }
   ],
   "source": [
    "highest_pom=m_data.groupby(\"season\")[\"player_of_match\"].max()\n",
    "highest_pom"
   ]
  },
  {
   "cell_type": "markdown",
   "metadata": {},
   "source": [
    "YK Pathan is the highest player of match considering  seasons from 2008 to 2019"
   ]
  },
  {
   "cell_type": "code",
   "execution_count": 70,
   "metadata": {},
   "outputs": [
    {
     "data": {
      "text/plain": [
       "season\n",
       "2008          A Kumble\n",
       "2009          A Kumble\n",
       "2010          A Kumble\n",
       "2011          A Mishra\n",
       "2012        A Chandila\n",
       "2013          A Mishra\n",
       "2014    AB de Villiers\n",
       "2015           A Nehra\n",
       "2016          A Mishra\n",
       "2017            AJ Tye\n",
       "2018          A Mishra\n",
       "2019          A Joseph\n",
       "Name: player_of_match, dtype: object"
      ]
     },
     "execution_count": 70,
     "metadata": {},
     "output_type": "execute_result"
    }
   ],
   "source": [
    "lowest_pom=m_data.groupby(\"season\")[\"player_of_match\"].min()\n",
    "lowest_pom"
   ]
  },
  {
   "cell_type": "markdown",
   "metadata": {},
   "source": [
    "A Mishra is the lowest player of match from season 2008 to 2019"
   ]
  },
  {
   "cell_type": "code",
   "execution_count": 71,
   "metadata": {},
   "outputs": [
    {
     "data": {
      "text/plain": [
       "CH Gayle          25\n",
       "AB de Villiers    20\n",
       "DA Warner         17\n",
       "RG Sharma         17\n",
       "MS Dhoni          17\n",
       "                  ..\n",
       "SM Katich          1\n",
       "B Stanlake         1\n",
       "NV Ojha            1\n",
       "EJG Morgan         1\n",
       "R McLaren          1\n",
       "Name: player_of_match, Length: 226, dtype: int64"
      ]
     },
     "execution_count": 71,
     "metadata": {},
     "output_type": "execute_result"
    }
   ],
   "source": [
    "m_data[\"player_of_match\"].value_counts()"
   ]
  },
  {
   "cell_type": "markdown",
   "metadata": {},
   "source": [
    "Top players:    CH Gayle          \n",
    "                 AB de Villiers    \n",
    "                 MS Dhoni          \n",
    "                 RG Sharma         \n",
    "                 DA Warner   \n",
    "Bottom Players:   Mohammed Siraj     \n",
    "                  WPUJC Vaas         \n",
    "                  S Curran           \n",
    "                  MJ Lumb            \n",
    "                  DL Vettori   \n"
   ]
  },
  {
   "cell_type": "code",
   "execution_count": null,
   "metadata": {},
   "outputs": [],
   "source": []
  }
 ],
 "metadata": {
  "kernelspec": {
   "display_name": "Python 3",
   "language": "python",
   "name": "python3"
  },
  "language_info": {
   "codemirror_mode": {
    "name": "ipython",
    "version": 3
   },
   "file_extension": ".py",
   "mimetype": "text/x-python",
   "name": "python",
   "nbconvert_exporter": "python",
   "pygments_lexer": "ipython3",
   "version": "3.8.3"
  }
 },
 "nbformat": 4,
 "nbformat_minor": 4
}
